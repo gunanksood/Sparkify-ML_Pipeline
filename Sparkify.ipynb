{
 "cells": [
  {
   "cell_type": "markdown",
   "metadata": {},
   "source": [
    "# Sparkify Project Workspace\n",
    "This workspace contains a tiny subset (128MB) of the full dataset available (12GB). Feel free to use this workspace to build your project, or to explore a smaller subset with Spark before deploying your cluster on the cloud. Instructions for setting up your Spark cluster is included in the last lesson of the Extracurricular Spark Course content.\n",
    "\n",
    "You can follow the steps below to guide your data analysis and model building portion of this project."
   ]
  },
  {
   "cell_type": "code",
   "execution_count": 1,
   "metadata": {},
   "outputs": [],
   "source": [
    "# import libraries\n",
    "from pyspark.sql import SparkSession, Window\n",
    "from pyspark.sql.functions import avg, stddev, split, udf, isnull, first, col, format_number, rand, count, when, isnan, when, asc, floor, desc, row_number\n",
    "from pyspark.sql.functions import min as fmin\n",
    "from pyspark.sql.functions import max as fmax\n",
    "from pyspark.sql.functions import sum as fsum\n",
    "from pyspark.sql.types import IntegerType, FloatType\n",
    "\n",
    "from pyspark.ml import Pipeline\n",
    "from pyspark.ml.classification import LogisticRegression, GBTClassifier,RandomForestClassifier, LinearSVC\n",
    "from pyspark.ml.feature import StandardScaler, VectorAssembler\n",
    "from pyspark.ml.evaluation import MulticlassClassificationEvaluator,  BinaryClassificationEvaluator\n",
    "from pyspark.mllib.evaluation import MulticlassMetrics\n",
    "from pyspark.ml.tuning import CrossValidator, ParamGridBuilder, CrossValidatorModel\n",
    "import seaborn as sns"
   ]
  },
  {
   "cell_type": "code",
   "execution_count": 2,
   "metadata": {},
   "outputs": [],
   "source": [
    "# create a Spark session\n",
    "spark = SparkSession.builder.appName('ProjectSparkify').getOrCreate()"
   ]
  },
  {
   "cell_type": "markdown",
   "metadata": {},
   "source": [
    "# Load and Clean Dataset\n",
    "In this workspace, the mini-dataset file is `mini_sparkify_event_data.json`. Load and clean the dataset, checking for invalid or missing data - for example, records without userids or sessionids. "
   ]
  },
  {
   "cell_type": "code",
   "execution_count": 3,
   "metadata": {},
   "outputs": [],
   "source": [
    "# Loading Dataset\n",
    "df = spark.read.json('mini_sparkify_event_data.json')"
   ]
  },
  {
   "cell_type": "code",
   "execution_count": 4,
   "metadata": {},
   "outputs": [
    {
     "name": "stdout",
     "output_type": "stream",
     "text": [
      "root\n",
      " |-- artist: string (nullable = true)\n",
      " |-- auth: string (nullable = true)\n",
      " |-- firstName: string (nullable = true)\n",
      " |-- gender: string (nullable = true)\n",
      " |-- itemInSession: long (nullable = true)\n",
      " |-- lastName: string (nullable = true)\n",
      " |-- length: double (nullable = true)\n",
      " |-- level: string (nullable = true)\n",
      " |-- location: string (nullable = true)\n",
      " |-- method: string (nullable = true)\n",
      " |-- page: string (nullable = true)\n",
      " |-- registration: long (nullable = true)\n",
      " |-- sessionId: long (nullable = true)\n",
      " |-- song: string (nullable = true)\n",
      " |-- status: long (nullable = true)\n",
      " |-- ts: long (nullable = true)\n",
      " |-- userAgent: string (nullable = true)\n",
      " |-- userId: string (nullable = true)\n",
      "\n"
     ]
    }
   ],
   "source": [
    "# Schema of data\n",
    "df.printSchema()"
   ]
  },
  {
   "cell_type": "code",
   "execution_count": 5,
   "metadata": {},
   "outputs": [
    {
     "name": "stdout",
     "output_type": "stream",
     "text": [
      "+----------------+---------+---------+------+-------------+--------+---------+-----+--------------------+------+--------+-------------+---------+---------+------+-------------+--------------------+------+\n",
      "|          artist|     auth|firstName|gender|itemInSession|lastName|   length|level|            location|method|    page| registration|sessionId|     song|status|           ts|           userAgent|userId|\n",
      "+----------------+---------+---------+------+-------------+--------+---------+-----+--------------------+------+--------+-------------+---------+---------+------+-------------+--------------------+------+\n",
      "|  Martha Tilston|Logged In|    Colin|     M|           50| Freeman|277.89016| paid|     Bakersfield, CA|   PUT|NextSong|1538173362000|       29|Rockpools|   200|1538352117000|Mozilla/5.0 (Wind...|    30|\n",
      "|Five Iron Frenzy|Logged In|    Micah|     M|           79|    Long|236.09424| free|Boston-Cambridge-...|   PUT|NextSong|1538331630000|        8|   Canada|   200|1538352180000|\"Mozilla/5.0 (Win...|     9|\n",
      "+----------------+---------+---------+------+-------------+--------+---------+-----+--------------------+------+--------+-------------+---------+---------+------+-------------+--------------------+------+\n",
      "only showing top 2 rows\n",
      "\n"
     ]
    }
   ],
   "source": [
    "df.show(2)"
   ]
  },
  {
   "cell_type": "code",
   "execution_count": 6,
   "metadata": {},
   "outputs": [
    {
     "data": {
      "text/plain": [
       "286500"
      ]
     },
     "execution_count": 6,
     "metadata": {},
     "output_type": "execute_result"
    }
   ],
   "source": [
    "df.count()"
   ]
  },
  {
   "cell_type": "code",
   "execution_count": 7,
   "metadata": {
    "scrolled": true
   },
   "outputs": [
    {
     "name": "stdout",
     "output_type": "stream",
     "text": [
      "+------+----+---------+------+-------------+--------+------+-----+--------+------+----+------------+---------+----+------+---+---------+------+\n",
      "|artist|auth|firstName|gender|itemInSession|lastName|length|level|location|method|page|registration|sessionId|song|status| ts|userAgent|userId|\n",
      "+------+----+---------+------+-------------+--------+------+-----+--------+------+----+------------+---------+----+------+---+---------+------+\n",
      "|     0|   0|        0|     0|            0|       0|     0|    0|       0|     0|   0|           0|        0|   0|     0|  0|        0|     0|\n",
      "+------+----+---------+------+-------------+--------+------+-----+--------+------+----+------------+---------+----+------+---+---------+------+\n",
      "\n"
     ]
    }
   ],
   "source": [
    "df.select([count(when(isnan(c), c)).alias(c) for c in df.columns]).show()"
   ]
  },
  {
   "cell_type": "code",
   "execution_count": 8,
   "metadata": {},
   "outputs": [
    {
     "name": "stdout",
     "output_type": "stream",
     "text": [
      "+-------+------------------+\n",
      "|summary|            userID|\n",
      "+-------+------------------+\n",
      "|  count|               226|\n",
      "|   mean|65391.013333333336|\n",
      "| stddev|105396.47791907164|\n",
      "|    min|                  |\n",
      "|    max|                99|\n",
      "+-------+------------------+\n",
      "\n"
     ]
    }
   ],
   "source": [
    "df.select([\"userID\"]).dropDuplicates().describe().show()"
   ]
  },
  {
   "cell_type": "markdown",
   "metadata": {},
   "source": [
    "# Exploratory Data Analysis\n",
    "When you're working with the full dataset, perform EDA by loading a small subset of the data and doing basic manipulations within Spark. In this workspace, you are already provided a small subset of data you can explore.\n",
    "\n",
    "### Define Churn\n",
    "\n",
    "Once you've done some preliminary analysis, create a column `Churn` to use as the label for your model. I suggest using the `Cancellation Confirmation` events to define your churn, which happen for both paid and free users. As a bonus task, you can also look into the `Downgrade` events.\n",
    "\n",
    "### Explore Data\n",
    "Once you've defined churn, perform some exploratory data analysis to observe the behavior for users who stayed vs users who churned. You can start by exploring aggregates on these two groups of users, observing how much of a specific action they experienced per a certain time unit or number of songs played."
   ]
  },
  {
   "cell_type": "code",
   "execution_count": 9,
   "metadata": {},
   "outputs": [
    {
     "name": "stdout",
     "output_type": "stream",
     "text": [
      "+-----+\n",
      "|level|\n",
      "+-----+\n",
      "| free|\n",
      "| paid|\n",
      "+-----+\n",
      "\n"
     ]
    }
   ],
   "source": [
    "df.select(\"level\").distinct().show()"
   ]
  },
  {
   "cell_type": "code",
   "execution_count": 10,
   "metadata": {},
   "outputs": [
    {
     "name": "stdout",
     "output_type": "stream",
     "text": [
      "+-------------------------+\n",
      "|page                     |\n",
      "+-------------------------+\n",
      "|Cancel                   |\n",
      "|Submit Downgrade         |\n",
      "|Thumbs Down              |\n",
      "|Home                     |\n",
      "|Downgrade                |\n",
      "|Roll Advert              |\n",
      "|Logout                   |\n",
      "|Save Settings            |\n",
      "|Cancellation Confirmation|\n",
      "|About                    |\n",
      "|Submit Registration      |\n",
      "|Settings                 |\n",
      "|Login                    |\n",
      "|Register                 |\n",
      "|Add to Playlist          |\n",
      "|Add Friend               |\n",
      "|NextSong                 |\n",
      "|Thumbs Up                |\n",
      "|Help                     |\n",
      "|Upgrade                  |\n",
      "+-------------------------+\n",
      "only showing top 20 rows\n",
      "\n"
     ]
    }
   ],
   "source": [
    "df.select(\"page\").distinct().show(truncate = False)"
   ]
  },
  {
   "cell_type": "code",
   "execution_count": 11,
   "metadata": {},
   "outputs": [
    {
     "name": "stdout",
     "output_type": "stream",
     "text": [
      "+--------------------+------+-----+-----------+\n",
      "|                song|status|level|       page|\n",
      "+--------------------+------+-----+-----------+\n",
      "|              Canada|   200| free|   NextSong|\n",
      "|Knocking On Forbi...|   200| free|   NextSong|\n",
      "|      Don't Leave Me|   200| free|   NextSong|\n",
      "|         Run Run Run|   200| free|   NextSong|\n",
      "|   Walk On The Water|   200| free|   NextSong|\n",
      "|                null|   200| free|Roll Advert|\n",
      "|      Gettin' Better|   200| free|   NextSong|\n",
      "|                null|   307| free|  Thumbs Up|\n",
      "| You've Got The Love|   200| free|   NextSong|\n",
      "|              Swisha|   200| free|   NextSong|\n",
      "|        Sticky Sweet|   200| free|   NextSong|\n",
      "|               Smile|   200| free|   NextSong|\n",
      "|              Closer|   200| free|   NextSong|\n",
      "|     Demasiado Bueno|   200| free|   NextSong|\n",
      "|  Whoa! Shut It Down|   200| free|   NextSong|\n",
      "|     World Long Gone|   200| free|   NextSong|\n",
      "|                null|   307| free|Thumbs Down|\n",
      "|                  22|   200| free|   NextSong|\n",
      "|                null|   200| free|       Home|\n",
      "|     Pictures Of You|   200| free|   NextSong|\n",
      "|                null|   307| free|     Logout|\n",
      "|                null|   200| free|       Home|\n",
      "|             Invalid|   200| free|   NextSong|\n",
      "|  These Arms Of Mine|   200| free|   NextSong|\n",
      "|     Don't Look Back|   200| free|   NextSong|\n",
      "|L'automne : Prest...|   200| free|   NextSong|\n",
      "|The Garden You Pl...|   200| free|   NextSong|\n",
      "|You Were Right Ab...|   200| free|   NextSong|\n",
      "|                null|   307| free|  Thumbs Up|\n",
      "|             Crazier|   200| free|   NextSong|\n",
      "+--------------------+------+-----+-----------+\n",
      "only showing top 30 rows\n",
      "\n"
     ]
    }
   ],
   "source": [
    "df.where(df.userId==9).select([\"song\",\"status\",\"level\",\"page\"]).show(30)"
   ]
  },
  {
   "cell_type": "code",
   "execution_count": 12,
   "metadata": {},
   "outputs": [],
   "source": [
    "cancellation_event = udf(lambda x: 1 if x == \"Cancellation Confirmation\" else 0, IntegerType())"
   ]
  },
  {
   "cell_type": "code",
   "execution_count": 13,
   "metadata": {},
   "outputs": [],
   "source": [
    "time_window = Window.partitionBy(\"userId\").orderBy(asc(\"ts\")).rangeBetween(Window.unboundedPreceding, Window.unboundedFollowing)"
   ]
  },
  {
   "cell_type": "code",
   "execution_count": 14,
   "metadata": {},
   "outputs": [],
   "source": [
    "df = df.withColumn(\"is_cancelled\", cancellation_event(\"page\"))"
   ]
  },
  {
   "cell_type": "code",
   "execution_count": 15,
   "metadata": {},
   "outputs": [
    {
     "name": "stdout",
     "output_type": "stream",
     "text": [
      "+----------------+---------+---------+------+-------------+--------+---------+-----+--------------------+------+--------+-------------+---------+---------+------+-------------+--------------------+------+------------+\n",
      "|          artist|     auth|firstName|gender|itemInSession|lastName|   length|level|            location|method|    page| registration|sessionId|     song|status|           ts|           userAgent|userId|is_cancelled|\n",
      "+----------------+---------+---------+------+-------------+--------+---------+-----+--------------------+------+--------+-------------+---------+---------+------+-------------+--------------------+------+------------+\n",
      "|  Martha Tilston|Logged In|    Colin|     M|           50| Freeman|277.89016| paid|     Bakersfield, CA|   PUT|NextSong|1538173362000|       29|Rockpools|   200|1538352117000|Mozilla/5.0 (Wind...|    30|           0|\n",
      "|Five Iron Frenzy|Logged In|    Micah|     M|           79|    Long|236.09424| free|Boston-Cambridge-...|   PUT|NextSong|1538331630000|        8|   Canada|   200|1538352180000|\"Mozilla/5.0 (Win...|     9|           0|\n",
      "+----------------+---------+---------+------+-------------+--------+---------+-----+--------------------+------+--------+-------------+---------+---------+------+-------------+--------------------+------+------------+\n",
      "only showing top 2 rows\n",
      "\n"
     ]
    }
   ],
   "source": [
    "df.show(2)"
   ]
  },
  {
   "cell_type": "code",
   "execution_count": 16,
   "metadata": {},
   "outputs": [],
   "source": [
    "df = df.withColumn(\"is_churn\", fmax(\"is_cancelled\").over(time_window))"
   ]
  },
  {
   "cell_type": "code",
   "execution_count": 17,
   "metadata": {},
   "outputs": [
    {
     "name": "stdout",
     "output_type": "stream",
     "text": [
      "+--------------------+---------+---------+------+-------------+---------+---------+-----+--------------------+------+---------+-------------+---------+--------------------+------+-------------+--------------------+------+------------+--------+\n",
      "|              artist|     auth|firstName|gender|itemInSession| lastName|   length|level|            location|method|     page| registration|sessionId|                song|status|           ts|           userAgent|userId|is_cancelled|is_churn|\n",
      "+--------------------+---------+---------+------+-------------+---------+---------+-----+--------------------+------+---------+-------------+---------+--------------------+------+-------------+--------------------+------+------------+--------+\n",
      "|Sleeping With Sirens|Logged In| Darianna|     F|            0|Carpenter|202.97098| free|Bridgeport-Stamfo...|   PUT| NextSong|1538016340000|       31|Captain Tyin Knot...|   200|1539003534000|\"Mozilla/5.0 (iPh...|100010|           0|       0|\n",
      "|Francesca Battist...|Logged In| Darianna|     F|            1|Carpenter|196.54485| free|Bridgeport-Stamfo...|   PUT| NextSong|1538016340000|       31|Beautiful_ Beauti...|   200|1539003736000|\"Mozilla/5.0 (iPh...|100010|           0|       0|\n",
      "|              Brutha|Logged In| Darianna|     F|            2|Carpenter|263.13098| free|Bridgeport-Stamfo...|   PUT| NextSong|1538016340000|       31|          She's Gone|   200|1539003932000|\"Mozilla/5.0 (iPh...|100010|           0|       0|\n",
      "|                null|Logged In| Darianna|     F|            3|Carpenter|     null| free|Bridgeport-Stamfo...|   PUT|Thumbs Up|1538016340000|       31|                null|   307|1539003933000|\"Mozilla/5.0 (iPh...|100010|           0|       0|\n",
      "|         Josh Ritter|Logged In| Darianna|     F|            4|Carpenter|316.23791| free|Bridgeport-Stamfo...|   PUT| NextSong|1538016340000|       31|      Folk Bloodbath|   200|1539004195000|\"Mozilla/5.0 (iPh...|100010|           0|       0|\n",
      "+--------------------+---------+---------+------+-------------+---------+---------+-----+--------------------+------+---------+-------------+---------+--------------------+------+-------------+--------------------+------+------------+--------+\n",
      "only showing top 5 rows\n",
      "\n"
     ]
    }
   ],
   "source": [
    "df.show(5)"
   ]
  },
  {
   "cell_type": "code",
   "execution_count": 18,
   "metadata": {},
   "outputs": [
    {
     "name": "stdout",
     "output_type": "stream",
     "text": [
      "+------+--------+\n",
      "|userId|is_churn|\n",
      "+------+--------+\n",
      "|100010|       0|\n",
      "|200002|       0|\n",
      "|   125|       1|\n",
      "|   124|       0|\n",
      "|    51|       1|\n",
      "+------+--------+\n",
      "only showing top 5 rows\n",
      "\n"
     ]
    }
   ],
   "source": [
    "df.select(\"userId\",\"is_churn\").dropDuplicates().show(5)"
   ]
  },
  {
   "cell_type": "code",
   "execution_count": 19,
   "metadata": {},
   "outputs": [],
   "source": [
    "non_downgraded_users = df.where(df.is_churn == 0)\n",
    "downgraded_users = df.where(df.is_churn ==1)"
   ]
  },
  {
   "cell_type": "code",
   "execution_count": 20,
   "metadata": {},
   "outputs": [
    {
     "name": "stdout",
     "output_type": "stream",
     "text": [
      "Number of cancelled customers:  52\n",
      "Number of non cancelled customers:  174\n"
     ]
    }
   ],
   "source": [
    "cancelled_users_count = downgraded_users.select(\"userId\").dropDuplicates().count()\n",
    "non_cancelled_users_count = non_downgraded_users.select(\"userId\").dropDuplicates().count()\n",
    "\n",
    "print(\"Number of cancelled customers: \", cancelled_users_count)\n",
    "print(\"Number of non cancelled customers: \", non_cancelled_users_count)"
   ]
  },
  {
   "cell_type": "code",
   "execution_count": 21,
   "metadata": {},
   "outputs": [
    {
     "data": {
      "text/plain": [
       "<matplotlib.axes._subplots.AxesSubplot at 0x7feeecf7c748>"
      ]
     },
     "execution_count": 21,
     "metadata": {},
     "output_type": "execute_result"
    },
    {
     "data": {
      "image/png": "[encoded data removed]",
      "text/plain": [
       "<matplotlib.figure.Figure at 0x7feeecf91358>"
      ]
     },
     "metadata": {
      "needs_background": "light"
     },
     "output_type": "display_data"
    }
   ],
   "source": [
    "gender_df = df.select([\"userId\",\"gender\",\"is_churn\"]).dropDuplicates().toPandas()\n",
    "sns.countplot(x = \"is_churn\", hue = \"gender\", data = gender_df)"
   ]
  },
  {
   "cell_type": "code",
   "execution_count": 22,
   "metadata": {},
   "outputs": [],
   "source": [
    "non_downgraded_event_counts = non_downgraded_users.groupby(\"page\").count()"
   ]
  },
  {
   "cell_type": "code",
   "execution_count": 23,
   "metadata": {},
   "outputs": [],
   "source": [
    "downgraded_event_counts = downgraded_users.groupby(\"page\").count()"
   ]
  },
  {
   "cell_type": "code",
   "execution_count": 24,
   "metadata": {},
   "outputs": [],
   "source": [
    "downgraded_event_counts = downgraded_event_counts.withColumnRenamed(\"count\", \"downgraded_users_count\")\n",
    "non_downgraded_event_counts = non_downgraded_event_counts.withColumnRenamed(\"count\", \"non_downgraded_users_count\")"
   ]
  },
  {
   "cell_type": "code",
   "execution_count": 25,
   "metadata": {},
   "outputs": [
    {
     "name": "stdout",
     "output_type": "stream",
     "text": [
      "+----------------+----------------------+\n",
      "|            page|downgraded_users_count|\n",
      "+----------------+----------------------+\n",
      "|          Cancel|                    52|\n",
      "|Submit Downgrade|                     9|\n",
      "+----------------+----------------------+\n",
      "only showing top 2 rows\n",
      "\n"
     ]
    }
   ],
   "source": [
    "downgraded_event_counts.show(2)"
   ]
  },
  {
   "cell_type": "code",
   "execution_count": 26,
   "metadata": {},
   "outputs": [
    {
     "data": {
      "text/plain": [
       "<matplotlib.axes._subplots.AxesSubplot at 0x7feeed7f90f0>"
      ]
     },
     "execution_count": 26,
     "metadata": {},
     "output_type": "execute_result"
    },
    {
     "data": {
      "image/png": "[encoded data removed]",
      "text/plain": [
       "<matplotlib.figure.Figure at 0x7feeed7f90b8>"
      ]
     },
     "metadata": {
      "needs_background": "light"
     },
     "output_type": "display_data"
    }
   ],
   "source": [
    "pandas_for_chart = non_downgraded_event_counts.join(downgraded_event_counts, \"page\", \"outer\").toPandas().fillna(0)\n",
    "pandas_for_chart.plot.bar(\"page\")"
   ]
  },
  {
   "cell_type": "code",
   "execution_count": 27,
   "metadata": {},
   "outputs": [],
   "source": [
    "# Without next song event\n",
    "non_downgraded_event_counts_without_song = non_downgraded_users.filter(non_downgraded_users[\"page\"] != \"NextSong\").groupby(\"page\").count()\n",
    "downgraded_event_counts_without_song = downgraded_users.filter(downgraded_users[\"page\"] != \"NextSong\").groupby(\"page\").count()"
   ]
  },
  {
   "cell_type": "code",
   "execution_count": 69,
   "metadata": {},
   "outputs": [],
   "source": [
    "downgraded_event_counts_without_song = downgraded_event_counts_without_song.withColumnRenamed(\"count\", \"downgraded_users_count\")\n",
    "non_downgraded_event_counts_without_song = non_downgraded_event_counts_without_song.withColumnRenamed(\"count\", \"non_downgraded_users_count\")"
   ]
  },
  {
   "cell_type": "code",
   "execution_count": 70,
   "metadata": {},
   "outputs": [
    {
     "data": {
      "text/plain": [
       "<matplotlib.axes._subplots.AxesSubplot at 0x7feeecc08160>"
      ]
     },
     "execution_count": 70,
     "metadata": {},
     "output_type": "execute_result"
    },
    {
     "data": {
      "image/png": "[encoded data removed]",
      "text/plain": [
       "<matplotlib.figure.Figure at 0x7feeecc08ba8>"
      ]
     },
     "metadata": {
      "needs_background": "light"
     },
     "output_type": "display_data"
    }
   ],
   "source": [
    "pandas_for_chart = non_downgraded_event_counts_without_song.join(downgraded_event_counts_without_song, \"page\", \"outer\").toPandas().fillna(0)\n",
    "pandas_for_chart.plot.bar(\"page\")"
   ]
  },
  {
   "cell_type": "markdown",
   "metadata": {},
   "source": [
    "# Feature Engineering\n",
    "Once you've familiarized yourself with the data, build out the features you find promising to train your model on. To work with the full dataset, you can follow the following steps.\n",
    "- Write a script to extract the necessary features from the smaller subset of data\n",
    "- Ensure that your script is scalable, using the best practices discussed in Lesson 3\n",
    "- Try your script on the full data set, debugging your script if necessary\n",
    "\n",
    "If you are working in the classroom workspace, you can just extract features based on the small subset of data contained here. Be sure to transfer over this work to the larger dataset when you work on your Spark cluster."
   ]
  },
  {
   "cell_type": "code",
   "execution_count": 29,
   "metadata": {},
   "outputs": [],
   "source": [
    "is_nextSong_event = udf(lambda x: 1 if x == \"NextSong\" else 0, IntegerType())\n",
    "df = df.withColumn(\"is_NextSong\", is_nextSong_event(\"page\"))\n",
    "\n",
    "is_Home_event = udf(lambda x: 1 if x == \"Home\" else 0, IntegerType())\n",
    "df = df.withColumn(\"is_Home\", is_Home_event(\"page\"))\n",
    "\n",
    "is_ThumbsUp_event = udf(lambda x: 1 if x == \"Thumbs Up\" else 0, IntegerType())\n",
    "df = df.withColumn(\"is_ThumbsUp\", is_ThumbsUp_event(\"page\"))\n",
    "\n",
    "is_AddFriend_event = udf(lambda x: 1 if x == \"Add Friend\" else 0, IntegerType())\n",
    "df = df.withColumn(\"is_AddFriend\", is_AddFriend_event(\"page\"))\n",
    "\n",
    "is_AddPlaylist_event = udf(lambda x: 1 if x == \"Add to Playlist\" else 0, IntegerType())\n",
    "df = df.withColumn(\"is_AddPlaylist\", is_AddPlaylist_event(\"page\"))"
   ]
  },
  {
   "cell_type": "code",
   "execution_count": 30,
   "metadata": {},
   "outputs": [
    {
     "name": "stdout",
     "output_type": "stream",
     "text": [
      "-RECORD 0------------------------------\n",
      " artist         | Sleeping With Sirens \n",
      " auth           | Logged In            \n",
      " firstName      | Darianna             \n",
      " gender         | F                    \n",
      " itemInSession  | 0                    \n",
      " lastName       | Carpenter            \n",
      " length         | 202.97098            \n",
      " level          | free                 \n",
      " location       | Bridgeport-Stamfo... \n",
      " method         | PUT                  \n",
      " page           | NextSong             \n",
      " registration   | 1538016340000        \n",
      " sessionId      | 31                   \n",
      " song           | Captain Tyin Knot... \n",
      " status         | 200                  \n",
      " ts             | 1539003534000        \n",
      " userAgent      | \"Mozilla/5.0 (iPh... \n",
      " userId         | 100010               \n",
      " is_cancelled   | 0                    \n",
      " is_churn       | 0                    \n",
      " is_NextSong    | 1                    \n",
      " is_Home        | 0                    \n",
      " is_ThumbsUp    | 0                    \n",
      " is_AddFriend   | 0                    \n",
      " is_AddPlaylist | 0                    \n",
      "-RECORD 1------------------------------\n",
      " artist         | Francesca Battist... \n",
      " auth           | Logged In            \n",
      " firstName      | Darianna             \n",
      " gender         | F                    \n",
      " itemInSession  | 1                    \n",
      " lastName       | Carpenter            \n",
      " length         | 196.54485            \n",
      " level          | free                 \n",
      " location       | Bridgeport-Stamfo... \n",
      " method         | PUT                  \n",
      " page           | NextSong             \n",
      " registration   | 1538016340000        \n",
      " sessionId      | 31                   \n",
      " song           | Beautiful_ Beauti... \n",
      " status         | 200                  \n",
      " ts             | 1539003736000        \n",
      " userAgent      | \"Mozilla/5.0 (iPh... \n",
      " userId         | 100010               \n",
      " is_cancelled   | 0                    \n",
      " is_churn       | 0                    \n",
      " is_NextSong    | 1                    \n",
      " is_Home        | 0                    \n",
      " is_ThumbsUp    | 0                    \n",
      " is_AddFriend   | 0                    \n",
      " is_AddPlaylist | 0                    \n",
      "only showing top 2 rows\n",
      "\n"
     ]
    }
   ],
   "source": [
    "df.show(2, vertical=True)"
   ]
  },
  {
   "cell_type": "code",
   "execution_count": 31,
   "metadata": {},
   "outputs": [],
   "source": [
    "# This is the same WindowVal as previously used in the notebook\n",
    "windowval1 = Window.partitionBy(\"userId\").orderBy(asc(\"ts\"))\\\n",
    "                    .rangeBetween(Window.unboundedPreceding, Window.unboundedFollowing)\n",
    "df = df.withColumn(\"songs_count\", fsum(\"is_NextSong\").over(windowval1))\n",
    "df = df.withColumn(\"home_count\", fsum(\"is_Home\").over(windowval1))\n",
    "df = df.withColumn(\"thumbsUp_count\", fsum(\"is_ThumbsUp\").over(windowval1))\n",
    "df = df.withColumn(\"addFriend_count\", fsum(\"is_AddFriend\").over(windowval1))\n",
    "df = df.withColumn(\"addPlaylist_count\", fsum(\"is_AddPlaylist\").over(windowval1))"
   ]
  },
  {
   "cell_type": "code",
   "execution_count": 32,
   "metadata": {},
   "outputs": [
    {
     "name": "stdout",
     "output_type": "stream",
     "text": [
      "-RECORD 0---------------------------------\n",
      " artist            | Sleeping With Sirens \n",
      " auth              | Logged In            \n",
      " firstName         | Darianna             \n",
      " gender            | F                    \n",
      " itemInSession     | 0                    \n",
      " lastName          | Carpenter            \n",
      " length            | 202.97098            \n",
      " level             | free                 \n",
      " location          | Bridgeport-Stamfo... \n",
      " method            | PUT                  \n",
      " page              | NextSong             \n",
      " registration      | 1538016340000        \n",
      " sessionId         | 31                   \n",
      " song              | Captain Tyin Knot... \n",
      " status            | 200                  \n",
      " ts                | 1539003534000        \n",
      " userAgent         | \"Mozilla/5.0 (iPh... \n",
      " userId            | 100010               \n",
      " is_cancelled      | 0                    \n",
      " is_churn          | 0                    \n",
      " is_NextSong       | 1                    \n",
      " is_Home           | 0                    \n",
      " is_ThumbsUp       | 0                    \n",
      " is_AddFriend      | 0                    \n",
      " is_AddPlaylist    | 0                    \n",
      " songs_count       | 275                  \n",
      " home_count        | 11                   \n",
      " thumbsUp_count    | 17                   \n",
      " addFriend_count   | 4                    \n",
      " addPlaylist_count | 7                    \n",
      "-RECORD 1---------------------------------\n",
      " artist            | Francesca Battist... \n",
      " auth              | Logged In            \n",
      " firstName         | Darianna             \n",
      " gender            | F                    \n",
      " itemInSession     | 1                    \n",
      " lastName          | Carpenter            \n",
      " length            | 196.54485            \n",
      " level             | free                 \n",
      " location          | Bridgeport-Stamfo... \n",
      " method            | PUT                  \n",
      " page              | NextSong             \n",
      " registration      | 1538016340000        \n",
      " sessionId         | 31                   \n",
      " song              | Beautiful_ Beauti... \n",
      " status            | 200                  \n",
      " ts                | 1539003736000        \n",
      " userAgent         | \"Mozilla/5.0 (iPh... \n",
      " userId            | 100010               \n",
      " is_cancelled      | 0                    \n",
      " is_churn          | 0                    \n",
      " is_NextSong       | 1                    \n",
      " is_Home           | 0                    \n",
      " is_ThumbsUp       | 0                    \n",
      " is_AddFriend      | 0                    \n",
      " is_AddPlaylist    | 0                    \n",
      " songs_count       | 275                  \n",
      " home_count        | 11                   \n",
      " thumbsUp_count    | 17                   \n",
      " addFriend_count   | 4                    \n",
      " addPlaylist_count | 7                    \n",
      "only showing top 2 rows\n",
      "\n"
     ]
    }
   ],
   "source": [
    "df.show(2, vertical=True)"
   ]
  },
  {
   "cell_type": "code",
   "execution_count": 33,
   "metadata": {},
   "outputs": [],
   "source": [
    "df = df.withColumn(\"MaxTime\", fmax(\"ts\").over(windowval1))\n",
    "df = df.withColumn(\"TimeFromEnd\", df.MaxTime - df.ts)"
   ]
  },
  {
   "cell_type": "code",
   "execution_count": 34,
   "metadata": {},
   "outputs": [
    {
     "name": "stdout",
     "output_type": "stream",
     "text": [
      "-RECORD 0---------------------------------\n",
      " artist            | Sleeping With Sirens \n",
      " auth              | Logged In            \n",
      " firstName         | Darianna             \n",
      " gender            | F                    \n",
      " itemInSession     | 0                    \n",
      " lastName          | Carpenter            \n",
      " length            | 202.97098            \n",
      " level             | free                 \n",
      " location          | Bridgeport-Stamfo... \n",
      " method            | PUT                  \n",
      " page              | NextSong             \n",
      " registration      | 1538016340000        \n",
      " sessionId         | 31                   \n",
      " song              | Captain Tyin Knot... \n",
      " status            | 200                  \n",
      " ts                | 1539003534000        \n",
      " userAgent         | \"Mozilla/5.0 (iPh... \n",
      " userId            | 100010               \n",
      " is_cancelled      | 0                    \n",
      " is_churn          | 0                    \n",
      " is_NextSong       | 1                    \n",
      " is_Home           | 0                    \n",
      " is_ThumbsUp       | 0                    \n",
      " is_AddFriend      | 0                    \n",
      " is_AddPlaylist    | 0                    \n",
      " songs_count       | 275                  \n",
      " home_count        | 11                   \n",
      " thumbsUp_count    | 17                   \n",
      " addFriend_count   | 4                    \n",
      " addPlaylist_count | 7                    \n",
      " MaxTime           | 1542823952000        \n",
      " TimeFromEnd       | 3820418000           \n",
      "only showing top 1 row\n",
      "\n"
     ]
    }
   ],
   "source": [
    "df.show(1, vertical=True)"
   ]
  },
  {
   "cell_type": "code",
   "execution_count": 35,
   "metadata": {},
   "outputs": [],
   "source": [
    "# Week from end is the number of weeks of usage before the user's last activity. \n",
    "\n",
    "no_of_weeks = udf(lambda x: x/604800000)\n",
    "df  = df.withColumn(\"no_of_weeks\", no_of_weeks(\"TimeFromEnd\"))\n",
    "df = df.withColumn(\"no_of_weeks_int\",floor(df.no_of_weeks))"
   ]
  },
  {
   "cell_type": "code",
   "execution_count": 36,
   "metadata": {},
   "outputs": [
    {
     "name": "stdout",
     "output_type": "stream",
     "text": [
      "-RECORD 0---------------------------------\n",
      " artist            | Sleeping With Sirens \n",
      " auth              | Logged In            \n",
      " firstName         | Darianna             \n",
      " gender            | F                    \n",
      " itemInSession     | 0                    \n",
      " lastName          | Carpenter            \n",
      " length            | 202.97098            \n",
      " level             | free                 \n",
      " location          | Bridgeport-Stamfo... \n",
      " method            | PUT                  \n",
      " page              | NextSong             \n",
      " registration      | 1538016340000        \n",
      " sessionId         | 31                   \n",
      " song              | Captain Tyin Knot... \n",
      " status            | 200                  \n",
      " ts                | 1539003534000        \n",
      " userAgent         | \"Mozilla/5.0 (iPh... \n",
      " userId            | 100010               \n",
      " is_cancelled      | 0                    \n",
      " is_churn          | 0                    \n",
      " is_NextSong       | 1                    \n",
      " is_Home           | 0                    \n",
      " is_ThumbsUp       | 0                    \n",
      " is_AddFriend      | 0                    \n",
      " is_AddPlaylist    | 0                    \n",
      " songs_count       | 275                  \n",
      " home_count        | 11                   \n",
      " thumbsUp_count    | 17                   \n",
      " addFriend_count   | 4                    \n",
      " addPlaylist_count | 7                    \n",
      " MaxTime           | 1542823952000        \n",
      " TimeFromEnd       | 3820418000           \n",
      " no_of_weeks       | 6.316828703703703    \n",
      " no_of_weeks_int   | 6                    \n",
      "only showing top 1 row\n",
      "\n"
     ]
    }
   ],
   "source": [
    "df.show(1, vertical=True)"
   ]
  },
  {
   "cell_type": "code",
   "execution_count": 37,
   "metadata": {},
   "outputs": [],
   "source": [
    "#Create a column which is grouped by userId and the week (defined as weeks before the last user activity)\n",
    "#providing a sum of each page activity of interest in that particular week. \n",
    "\n",
    "window_for_a_week = Window.partitionBy([\"userId\", \"no_of_weeks_int\"]).orderBy(asc(\"ts\")).rangeBetween(Window.unboundedPreceding, Window.unboundedFollowing)\n",
    "\n",
    "df = df.withColumn(\"songs_in_a_week\", fsum(\"is_NextSong\").over(window_for_a_week))\n",
    "df = df.withColumn(\"home_in_a_week\", fsum(\"is_Home\").over(window_for_a_week))\n",
    "df = df.withColumn(\"thumbsUp_in_a_week\", fsum(\"is_ThumbsUp\").over(window_for_a_week))\n",
    "df = df.withColumn(\"addFriends_in_a_week\", fsum(\"is_AddFriend\").over(window_for_a_week))\n",
    "df = df.withColumn(\"addPlaylist_in_a_week\", fsum(\"is_AddPlaylist\").over(window_for_a_week))"
   ]
  },
  {
   "cell_type": "code",
   "execution_count": 38,
   "metadata": {},
   "outputs": [
    {
     "name": "stdout",
     "output_type": "stream",
     "text": [
      "+-----------+---------+---------+------+-------------+--------+---------+-----+--------------------+------+--------+-------------+---------+--------------------+------+-------------+--------------------+------+------------+--------+-----------+-------+-----------+------------+--------------+-----------+----------+--------------+---------------+-----------------+-------------+-----------+--------------------+---------------+---------------+--------------+------------------+--------------------+---------------------+\n",
      "|     artist|     auth|firstName|gender|itemInSession|lastName|   length|level|            location|method|    page| registration|sessionId|                song|status|           ts|           userAgent|userId|is_cancelled|is_churn|is_NextSong|is_Home|is_ThumbsUp|is_AddFriend|is_AddPlaylist|songs_count|home_count|thumbsUp_count|addFriend_count|addPlaylist_count|      MaxTime|TimeFromEnd|         no_of_weeks|no_of_weeks_int|songs_in_a_week|home_in_a_week|thumbsUp_in_a_week|addFriends_in_a_week|addPlaylist_in_a_week|\n",
      "+-----------+---------+---------+------+-------------+--------+---------+-----+--------------------+------+--------+-------------+---------+--------------------+------+-------------+--------------------+------+------------+--------+-----------+-------+-----------+------------+--------------+-----------+----------+--------------+---------------+-----------------+-------------+-----------+--------------------+---------------+---------------+--------------+------------------+--------------------+---------------------+\n",
      "|Bad Company|Logged In|   Samuel|     M|            0|   Green|314.09587| free|Dallas-Fort Worth...|   PUT|NextSong|1536980520000|     1022|Feel Like Makin' ...|   200|1540957259000|\"Mozilla/5.0 (Mac...|   149|           0|       0|          1|      0|          0|           0|             0|        186|         7|            11|              9|                5|1540970447000|   13188000|0.021805555555555557|              0|             54|             3|                 1|                   1|                    3|\n",
      "|  The B-52s|Logged In|   Samuel|     M|            1|   Green|  227.082| free|Dallas-Fort Worth...|   PUT|NextSong|1536980520000|     1022|Too Much To Think...|   200|1540957573000|\"Mozilla/5.0 (Mac...|   149|           0|       0|          1|      0|          0|           0|             0|        186|         7|            11|              9|                5|1540970447000|   12874000|0.021286375661375662|              0|             54|             3|                 1|                   1|                    3|\n",
      "+-----------+---------+---------+------+-------------+--------+---------+-----+--------------------+------+--------+-------------+---------+--------------------+------+-------------+--------------------+------+------------+--------+-----------+-------+-----------+------------+--------------+-----------+----------+--------------+---------------+-----------------+-------------+-----------+--------------------+---------------+---------------+--------------+------------------+--------------------+---------------------+\n",
      "only showing top 2 rows\n",
      "\n"
     ]
    }
   ],
   "source": [
    "df.show(2)"
   ]
  },
  {
   "cell_type": "code",
   "execution_count": 39,
   "metadata": {},
   "outputs": [
    {
     "name": "stdout",
     "output_type": "stream",
     "text": [
      "+------+--------------+------------------+\n",
      "|userId|session_length|avg_session_length|\n",
      "+------+--------------+------------------+\n",
      "|100010|           111| 54.42857142857143|\n",
      "|100010|            39| 54.42857142857143|\n",
      "|100010|            59| 54.42857142857143|\n",
      "|100010|             8| 54.42857142857143|\n",
      "|100010|            73| 54.42857142857143|\n",
      "|100010|            34| 54.42857142857143|\n",
      "|100010|            57| 54.42857142857143|\n",
      "|200002|           157|              80.0|\n",
      "|200002|             6|              80.0|\n",
      "|200002|           143|              80.0|\n",
      "+------+--------------+------------------+\n",
      "only showing top 10 rows\n",
      "\n"
     ]
    }
   ],
   "source": [
    "window_session = Window.partitionBy(\"userId\",\"sessionId\").orderBy(desc(\"ts\"))\\\n",
    "                   .rangeBetween(Window.unboundedPreceding, Window.unboundedFollowing)\n",
    "window_user = Window.partitionBy(\"userId\").rangeBetween(Window.unboundedPreceding, Window.unboundedFollowing)\n",
    "\n",
    "df = df.withColumn(\"session_length\",fmax(\"itemInSession\").over(window_session))\n",
    "df_sessionLen = df.select(\"userId\",\"session_length\",\"sessionId\").dropDuplicates()\\\n",
    ".withColumn(\"avg_session_length\",avg(\"session_length\").over(window_user)).drop(\"sessionId\",\"sessionLen\").dropDuplicates()\n",
    "df_sessionLen.show(10)"
   ]
  },
  {
   "cell_type": "code",
   "execution_count": 40,
   "metadata": {},
   "outputs": [
    {
     "name": "stdout",
     "output_type": "stream",
     "text": [
      "-RECORD 0----------------------------------\n",
      " artist                | null              \n",
      " auth                  | Logged Out        \n",
      " firstName             | null              \n",
      " gender                | null              \n",
      " itemInSession         | 1                 \n",
      " lastName              | null              \n",
      " length                | null              \n",
      " level                 | free              \n",
      " location              | null              \n",
      " method                | PUT               \n",
      " page                  | Login             \n",
      " registration          | null              \n",
      " sessionId             | 164               \n",
      " song                  | null              \n",
      " status                | 307               \n",
      " ts                    | 1541186398000     \n",
      " userAgent             | null              \n",
      " userId                |                   \n",
      " is_cancelled          | 0                 \n",
      " is_churn              | 0                 \n",
      " is_NextSong           | 0                 \n",
      " is_Home               | 0                 \n",
      " is_ThumbsUp           | 0                 \n",
      " is_AddFriend          | 0                 \n",
      " is_AddPlaylist        | 0                 \n",
      " songs_count           | 0                 \n",
      " home_count            | 4375              \n",
      " thumbsUp_count        | 0                 \n",
      " addFriend_count       | 0                 \n",
      " addPlaylist_count     | 0                 \n",
      " MaxTime               | 1543622241000     \n",
      " TimeFromEnd           | 2435843000        \n",
      " no_of_weeks           | 4.027518187830688 \n",
      " no_of_weeks_int       | 4                 \n",
      " songs_in_a_week       | 0                 \n",
      " home_in_a_week        | 533               \n",
      " thumbsUp_in_a_week    | 0                 \n",
      " addFriends_in_a_week  | 0                 \n",
      " addPlaylist_in_a_week | 0                 \n",
      " session_length        | 1                 \n",
      "only showing top 1 row\n",
      "\n"
     ]
    }
   ],
   "source": [
    "df.show(1, vertical=True)"
   ]
  },
  {
   "cell_type": "code",
   "execution_count": 41,
   "metadata": {},
   "outputs": [],
   "source": [
    "#Add the membership status of the customer at their last action\n",
    "\n",
    "window_ts = Window.partitionBy(\"userId\").orderBy(desc(\"ts\"))\n",
    "df = df.withColumn(\"row_no\",row_number().over(window_ts))\n",
    "df_membership_status = df.select(\"userId\",\"row_no\",\"level\").where(df[\"row_no\"]==1)\\\n",
    "                      .drop(\"row_no\").dropDuplicates()\n",
    "df_membership_status = df_membership_status.select(\"userId\",col(\"level\").alias(\"final_level\"))"
   ]
  },
  {
   "cell_type": "code",
   "execution_count": 42,
   "metadata": {},
   "outputs": [
    {
     "name": "stdout",
     "output_type": "stream",
     "text": [
      "+------+-----------+\n",
      "|userId|final_level|\n",
      "+------+-----------+\n",
      "|100010|       free|\n",
      "|200002|       paid|\n",
      "|   125|       free|\n",
      "|   124|       paid|\n",
      "|    51|       paid|\n",
      "+------+-----------+\n",
      "only showing top 5 rows\n",
      "\n"
     ]
    }
   ],
   "source": [
    "df_membership_status.show(5)"
   ]
  },
  {
   "cell_type": "code",
   "execution_count": 43,
   "metadata": {},
   "outputs": [
    {
     "name": "stdout",
     "output_type": "stream",
     "text": [
      "226\n",
      "3249\n"
     ]
    }
   ],
   "source": [
    "print(df_membership_status.count())\n",
    "print(df_sessionLen.count())"
   ]
  },
  {
   "cell_type": "code",
   "execution_count": 44,
   "metadata": {},
   "outputs": [
    {
     "data": {
      "text/plain": [
       "DataFrame[summary: string, artist: string, auth: string, firstName: string, gender: string, itemInSession: string, lastName: string, length: string, level: string, location: string, method: string, page: string, registration: string, sessionId: string, song: string, status: string, ts: string, userAgent: string, userId: string, is_cancelled: string, is_churn: string, is_NextSong: string, is_Home: string, is_ThumbsUp: string, is_AddFriend: string, is_AddPlaylist: string, songs_count: string, home_count: string, thumbsUp_count: string, addFriend_count: string, addPlaylist_count: string, MaxTime: string, TimeFromEnd: string, no_of_weeks: string, no_of_weeks_int: string, songs_in_a_week: string, home_in_a_week: string, thumbsUp_in_a_week: string, addFriends_in_a_week: string, addPlaylist_in_a_week: string, session_length: string, row_no: string]"
      ]
     },
     "execution_count": 44,
     "metadata": {},
     "output_type": "execute_result"
    }
   ],
   "source": [
    "df.describe()"
   ]
  },
  {
   "cell_type": "code",
   "execution_count": 45,
   "metadata": {},
   "outputs": [],
   "source": [
    "df_clean = df.drop(\"artist\",\"auth\",\"itemInSession\",\"length\",\"level\",\"location\",\"method\",\"page\",\"registration\",\"sessionId\",\\\n",
    "                  \"song\",\"status\",\"ts\",\"userAgent\",\"time\",\"hour\",\"weekday\",\"day\",\"Cancelled\",\"NextSong\",\"Home\",\"ThumbsUp\",\\\n",
    "                  \"AddFriend\",\"AddPlaylist\",\"TimeFromEnd\",\"session_length\",\"row_no\").dropDuplicates()"
   ]
  },
  {
   "cell_type": "code",
   "execution_count": 46,
   "metadata": {},
   "outputs": [
    {
     "name": "stdout",
     "output_type": "stream",
     "text": [
      "-RECORD 0-------------------------------------\n",
      " firstName             | Samuel               \n",
      " gender                | M                    \n",
      " lastName              | Green                \n",
      " userId                | 149                  \n",
      " is_cancelled          | 0                    \n",
      " is_churn              | 0                    \n",
      " is_NextSong           | 1                    \n",
      " is_Home               | 0                    \n",
      " is_ThumbsUp           | 0                    \n",
      " is_AddFriend          | 0                    \n",
      " is_AddPlaylist        | 0                    \n",
      " songs_count           | 186                  \n",
      " home_count            | 7                    \n",
      " thumbsUp_count        | 11                   \n",
      " addFriend_count       | 9                    \n",
      " addPlaylist_count     | 5                    \n",
      " MaxTime               | 1540970447000        \n",
      " no_of_weeks           | 0.021805555555555557 \n",
      " no_of_weeks_int       | 0                    \n",
      " songs_in_a_week       | 54                   \n",
      " home_in_a_week        | 3                    \n",
      " thumbsUp_in_a_week    | 1                    \n",
      " addFriends_in_a_week  | 1                    \n",
      " addPlaylist_in_a_week | 3                    \n",
      "only showing top 1 row\n",
      "\n"
     ]
    }
   ],
   "source": [
    "df_clean.show(1, vertical=True)"
   ]
  },
  {
   "cell_type": "code",
   "execution_count": 47,
   "metadata": {},
   "outputs": [],
   "source": [
    "df_pivot = df_clean.where(df_clean.no_of_weeks_int <=3).groupBy('userId').pivot('no_of_weeks_int')\\\n",
    "                  .agg(first('songs_in_a_week').alias('total_song_event_in_a_week'),first('home_in_a_week').alias('total_home_in_a_week'),\\\n",
    "                       first('thumbsUp_in_a_week').alias('total_like_in_a_week'),first('addFriends_in_a_week')\\\n",
    "                       .alias('total_addFriends_in_a_week'),first('addPlaylist_in_a_week').alias('total_addPlaylist_in_a_week'))"
   ]
  },
  {
   "cell_type": "code",
   "execution_count": 48,
   "metadata": {},
   "outputs": [],
   "source": [
    "df_final = df_clean.drop(\"MaxTime\",\"no_of_weeks\",\"no_of_weeks_int\",\"songs_in_a_week\",\"home_in_a_week\",\"thumbsUp_in_a_week\",\\\n",
    "                       \"addFriends_in_a_week\",\"addPlaylist_in_a_week\").dropDuplicates()"
   ]
  },
  {
   "cell_type": "code",
   "execution_count": 49,
   "metadata": {},
   "outputs": [
    {
     "name": "stdout",
     "output_type": "stream",
     "text": [
      "root\n",
      " |-- firstName: string (nullable = true)\n",
      " |-- gender: string (nullable = true)\n",
      " |-- lastName: string (nullable = true)\n",
      " |-- userId: string (nullable = true)\n",
      " |-- is_cancelled: integer (nullable = true)\n",
      " |-- is_churn: integer (nullable = true)\n",
      " |-- is_NextSong: integer (nullable = true)\n",
      " |-- is_Home: integer (nullable = true)\n",
      " |-- is_ThumbsUp: integer (nullable = true)\n",
      " |-- is_AddFriend: integer (nullable = true)\n",
      " |-- is_AddPlaylist: integer (nullable = true)\n",
      " |-- songs_count: long (nullable = true)\n",
      " |-- home_count: long (nullable = true)\n",
      " |-- thumbsUp_count: long (nullable = true)\n",
      " |-- addFriend_count: long (nullable = true)\n",
      " |-- addPlaylist_count: long (nullable = true)\n",
      "\n"
     ]
    }
   ],
   "source": [
    "df_final.printSchema()\n"
   ]
  },
  {
   "cell_type": "code",
   "execution_count": 50,
   "metadata": {},
   "outputs": [
    {
     "name": "stdout",
     "output_type": "stream",
     "text": [
      "1367\n",
      "226\n"
     ]
    }
   ],
   "source": [
    "print(df_final.count())\n",
    "print(df_pivot.count())"
   ]
  },
  {
   "cell_type": "code",
   "execution_count": 51,
   "metadata": {},
   "outputs": [
    {
     "name": "stdout",
     "output_type": "stream",
     "text": [
      "-RECORD 0-------------------------------\n",
      " userId                        | 200002 \n",
      " 0_total_song_event_in_a_week  | 120    \n",
      " 0_total_home_in_a_week        | 6      \n",
      " 0_total_like_in_a_week        | 6      \n",
      " 0_total_addFriends_in_a_week  | 0      \n",
      " 0_total_addPlaylist_in_a_week | 2      \n",
      " 1_total_song_event_in_a_week  | null   \n",
      " 1_total_home_in_a_week        | null   \n",
      " 1_total_like_in_a_week        | null   \n",
      " 1_total_addFriends_in_a_week  | null   \n",
      " 1_total_addPlaylist_in_a_week | null   \n",
      " 2_total_song_event_in_a_week  | null   \n",
      " 2_total_home_in_a_week        | null   \n",
      " 2_total_like_in_a_week        | null   \n",
      " 2_total_addFriends_in_a_week  | null   \n",
      " 2_total_addPlaylist_in_a_week | null   \n",
      " 3_total_song_event_in_a_week  | 92     \n",
      " 3_total_home_in_a_week        | 4      \n",
      " 3_total_like_in_a_week        | 4      \n",
      " 3_total_addFriends_in_a_week  | 0      \n",
      " 3_total_addPlaylist_in_a_week | 1      \n",
      "only showing top 1 row\n",
      "\n"
     ]
    }
   ],
   "source": [
    "df_pivot.show(1, vertical = True)"
   ]
  },
  {
   "cell_type": "code",
   "execution_count": 52,
   "metadata": {},
   "outputs": [
    {
     "name": "stdout",
     "output_type": "stream",
     "text": [
      "+------+----------------------------+----------------------+----------------------+----------------------------+-----------------------------+----------------------------+----------------------+----------------------+----------------------------+-----------------------------+----------------------------+----------------------+----------------------+----------------------------+-----------------------------+----------------------------+----------------------+----------------------+----------------------------+-----------------------------+\n",
      "|userId|0_total_song_event_in_a_week|0_total_home_in_a_week|0_total_like_in_a_week|0_total_addFriends_in_a_week|0_total_addPlaylist_in_a_week|1_total_song_event_in_a_week|1_total_home_in_a_week|1_total_like_in_a_week|1_total_addFriends_in_a_week|1_total_addPlaylist_in_a_week|2_total_song_event_in_a_week|2_total_home_in_a_week|2_total_like_in_a_week|2_total_addFriends_in_a_week|2_total_addPlaylist_in_a_week|3_total_song_event_in_a_week|3_total_home_in_a_week|3_total_like_in_a_week|3_total_addFriends_in_a_week|3_total_addPlaylist_in_a_week|\n",
      "+------+----------------------------+----------------------+----------------------+----------------------------+-----------------------------+----------------------------+----------------------+----------------------+----------------------------+-----------------------------+----------------------------+----------------------+----------------------+----------------------------+-----------------------------+----------------------------+----------------------+----------------------+----------------------------+-----------------------------+\n",
      "|     0|                           0|                     0|                     0|                           0|                            0|                          68|                    68|                    68|                          68|                           68|                          70|                    70|                    70|                          70|                           70|                          73|                    73|                    73|                          73|                           73|\n",
      "+------+----------------------------+----------------------+----------------------+----------------------------+-----------------------------+----------------------------+----------------------+----------------------+----------------------------+-----------------------------+----------------------------+----------------------+----------------------+----------------------------+-----------------------------+----------------------------+----------------------+----------------------+----------------------------+-----------------------------+\n",
      "\n"
     ]
    }
   ],
   "source": [
    "df_pivot.select([count(when(col(c).isNull(), c)).alias(c) for c in df_pivot.columns]).show()"
   ]
  },
  {
   "cell_type": "code",
   "execution_count": 53,
   "metadata": {},
   "outputs": [
    {
     "name": "stdout",
     "output_type": "stream",
     "text": [
      "+------+---------+------+---------+------------+--------+-----------+-------+-----------+------------+--------------+-----------+----------+--------------+---------------+-----------------+----------------------------+----------------------+----------------------+----------------------------+-----------------------------+----------------------------+----------------------+----------------------+----------------------------+-----------------------------+----------------------------+----------------------+----------------------+----------------------------+-----------------------------+----------------------------+----------------------+----------------------+----------------------------+-----------------------------+--------------+------------------+-----------+-------------------+\n",
      "|userId|firstName|gender| lastName|is_cancelled|is_churn|is_NextSong|is_Home|is_ThumbsUp|is_AddFriend|is_AddPlaylist|songs_count|home_count|thumbsUp_count|addFriend_count|addPlaylist_count|0_total_song_event_in_a_week|0_total_home_in_a_week|0_total_like_in_a_week|0_total_addFriends_in_a_week|0_total_addPlaylist_in_a_week|1_total_song_event_in_a_week|1_total_home_in_a_week|1_total_like_in_a_week|1_total_addFriends_in_a_week|1_total_addPlaylist_in_a_week|2_total_song_event_in_a_week|2_total_home_in_a_week|2_total_like_in_a_week|2_total_addFriends_in_a_week|2_total_addPlaylist_in_a_week|3_total_song_event_in_a_week|3_total_home_in_a_week|3_total_like_in_a_week|3_total_addFriends_in_a_week|3_total_addPlaylist_in_a_week|session_length|avg_session_length|final_level|   percIncreaseSong|\n",
      "+------+---------+------+---------+------------+--------+-----------+-------+-----------+------------+--------------+-----------+----------+--------------+---------------+-----------------+----------------------------+----------------------+----------------------+----------------------------+-----------------------------+----------------------------+----------------------+----------------------+----------------------------+-----------------------------+----------------------------+----------------------+----------------------+----------------------------+-----------------------------+----------------------------+----------------------+----------------------+----------------------------+-----------------------------+--------------+------------------+-----------+-------------------+\n",
      "|100010| Darianna|     F|Carpenter|           0|       0|          0|      0|          0|           1|             0|        275|        11|            17|              4|                7|                          24|                     1|                     2|                           0|                            1|                          80|                     2|                     5|                           0|                            3|                          51|                     2|                     4|                           1|                            1|                           0|                     0|                     0|                           0|                            0|           111| 54.42857142857143|       free|0.15384615384615385|\n",
      "|100010| Darianna|     F|Carpenter|           0|       0|          0|      0|          0|           1|             0|        275|        11|            17|              4|                7|                          24|                     1|                     2|                           0|                            1|                          80|                     2|                     5|                           0|                            3|                          51|                     2|                     4|                           1|                            1|                           0|                     0|                     0|                           0|                            0|            39| 54.42857142857143|       free|0.15384615384615385|\n",
      "|100010| Darianna|     F|Carpenter|           0|       0|          0|      0|          0|           1|             0|        275|        11|            17|              4|                7|                          24|                     1|                     2|                           0|                            1|                          80|                     2|                     5|                           0|                            3|                          51|                     2|                     4|                           1|                            1|                           0|                     0|                     0|                           0|                            0|            59| 54.42857142857143|       free|0.15384615384615385|\n",
      "|100010| Darianna|     F|Carpenter|           0|       0|          0|      0|          0|           1|             0|        275|        11|            17|              4|                7|                          24|                     1|                     2|                           0|                            1|                          80|                     2|                     5|                           0|                            3|                          51|                     2|                     4|                           1|                            1|                           0|                     0|                     0|                           0|                            0|             8| 54.42857142857143|       free|0.15384615384615385|\n",
      "|100010| Darianna|     F|Carpenter|           0|       0|          0|      0|          0|           1|             0|        275|        11|            17|              4|                7|                          24|                     1|                     2|                           0|                            1|                          80|                     2|                     5|                           0|                            3|                          51|                     2|                     4|                           1|                            1|                           0|                     0|                     0|                           0|                            0|            73| 54.42857142857143|       free|0.15384615384615385|\n",
      "+------+---------+------+---------+------------+--------+-----------+-------+-----------+------------+--------------+-----------+----------+--------------+---------------+-----------------+----------------------------+----------------------+----------------------+----------------------------+-----------------------------+----------------------------+----------------------+----------------------+----------------------------+-----------------------------+----------------------------+----------------------+----------------------+----------------------------+-----------------------------+----------------------------+----------------------+----------------------+----------------------------+-----------------------------+--------------+------------------+-----------+-------------------+\n",
      "only showing top 5 rows\n",
      "\n"
     ]
    }
   ],
   "source": [
    "# replacing null values with 0\n",
    "df_pivot = df_pivot.fillna(0)\n",
    "df_merged = df_final.join(df_pivot,\"userId\",\"left\").join(df_sessionLen,\"userId\",\"left\").\\\n",
    "          join(df_membership_status,\"userId\",\"left\")\n",
    "\n",
    "df_merged =  df_merged.withColumn(\"percIncreaseSong\",(df_merged[\"0_total_song_event_in_a_week\"])/\\\n",
    "           (df_merged[\"0_total_song_event_in_a_week\"]+df_merged[\"1_total_song_event_in_a_week\"]+df_merged[\"2_total_song_event_in_a_week\"]+df_merged[\"3_total_song_event_in_a_week\"]+1))\n",
    "df_merged.show(5)"
   ]
  },
  {
   "cell_type": "code",
   "execution_count": 54,
   "metadata": {},
   "outputs": [],
   "source": [
    "#Dropping unnecesarry columns, and making character variables numeric. \n",
    "\n",
    "df_features = df_merged.drop(\"MaxTime\",\"no_of_weeks\",\"no_of_weeks_int\",\"songs_in_a_week\",\"home_in_a_week\",\"thumbsUp_in_a_week\",\\\n",
    "                           \"addFriends_in_a_week\",\"addPlaylist_in_a_week\").dropDuplicates()"
   ]
  },
  {
   "cell_type": "code",
   "execution_count": 55,
   "metadata": {},
   "outputs": [
    {
     "name": "stdout",
     "output_type": "stream",
     "text": [
      "+------+---------+------+---------+------------+--------+-----------+-------+-----------+------------+--------------+-----------+----------+--------------+---------------+-----------------+----------------------------+----------------------+----------------------+----------------------------+-----------------------------+----------------------------+----------------------+----------------------+----------------------------+-----------------------------+----------------------------+----------------------+----------------------+----------------------------+-----------------------------+----------------------------+----------------------+----------------------+----------------------------+-----------------------------+--------------+------------------+-----------+-------------------+\n",
      "|userId|firstName|gender| lastName|is_cancelled|is_churn|is_NextSong|is_Home|is_ThumbsUp|is_AddFriend|is_AddPlaylist|songs_count|home_count|thumbsUp_count|addFriend_count|addPlaylist_count|0_total_song_event_in_a_week|0_total_home_in_a_week|0_total_like_in_a_week|0_total_addFriends_in_a_week|0_total_addPlaylist_in_a_week|1_total_song_event_in_a_week|1_total_home_in_a_week|1_total_like_in_a_week|1_total_addFriends_in_a_week|1_total_addPlaylist_in_a_week|2_total_song_event_in_a_week|2_total_home_in_a_week|2_total_like_in_a_week|2_total_addFriends_in_a_week|2_total_addPlaylist_in_a_week|3_total_song_event_in_a_week|3_total_home_in_a_week|3_total_like_in_a_week|3_total_addFriends_in_a_week|3_total_addPlaylist_in_a_week|session_length|avg_session_length|final_level|   percIncreaseSong|\n",
      "+------+---------+------+---------+------------+--------+-----------+-------+-----------+------------+--------------+-----------+----------+--------------+---------------+-----------------+----------------------------+----------------------+----------------------+----------------------------+-----------------------------+----------------------------+----------------------+----------------------+----------------------------+-----------------------------+----------------------------+----------------------+----------------------+----------------------------+-----------------------------+----------------------------+----------------------+----------------------+----------------------------+-----------------------------+--------------+------------------+-----------+-------------------+\n",
      "|100010| Darianna|     F|Carpenter|           0|       0|          0|      0|          0|           1|             0|        275|        11|            17|              4|                7|                          24|                     1|                     2|                           0|                            1|                          80|                     2|                     5|                           0|                            3|                          51|                     2|                     4|                           1|                            1|                           0|                     0|                     0|                           0|                            0|           111| 54.42857142857143|       free|0.15384615384615385|\n",
      "+------+---------+------+---------+------------+--------+-----------+-------+-----------+------------+--------------+-----------+----------+--------------+---------------+-----------------+----------------------------+----------------------+----------------------+----------------------------+-----------------------------+----------------------------+----------------------+----------------------+----------------------------+-----------------------------+----------------------------+----------------------+----------------------+----------------------------+-----------------------------+----------------------------+----------------------+----------------------+----------------------------+-----------------------------+--------------+------------------+-----------+-------------------+\n",
      "only showing top 1 row\n",
      "\n"
     ]
    }
   ],
   "source": [
    "df_features.show(1)"
   ]
  },
  {
   "cell_type": "code",
   "execution_count": 56,
   "metadata": {},
   "outputs": [],
   "source": [
    "gender_dummy = udf(lambda x:1 if x == \"M\" else 0,IntegerType())\n",
    "membershipStatus_dummy  = udf(lambda x:1 if x == \"paid\" else 0,IntegerType())"
   ]
  },
  {
   "cell_type": "code",
   "execution_count": 57,
   "metadata": {},
   "outputs": [
    {
     "name": "stdout",
     "output_type": "stream",
     "text": [
      "+------+---------+------+---------+------------+--------+-----------+-------+-----------+------------+--------------+-----------+----------+--------------+---------------+-----------------+----------------------------+----------------------+----------------------+----------------------------+-----------------------------+----------------------------+----------------------+----------------------+----------------------------+-----------------------------+----------------------------+----------------------+----------------------+----------------------------+-----------------------------+----------------------------+----------------------+----------------------+----------------------------+-----------------------------+--------------+------------------+-----------+-------------------+\n",
      "|userId|firstName|gender| lastName|is_cancelled|is_churn|is_NextSong|is_Home|is_ThumbsUp|is_AddFriend|is_AddPlaylist|songs_count|home_count|thumbsUp_count|addFriend_count|addPlaylist_count|0_total_song_event_in_a_week|0_total_home_in_a_week|0_total_like_in_a_week|0_total_addFriends_in_a_week|0_total_addPlaylist_in_a_week|1_total_song_event_in_a_week|1_total_home_in_a_week|1_total_like_in_a_week|1_total_addFriends_in_a_week|1_total_addPlaylist_in_a_week|2_total_song_event_in_a_week|2_total_home_in_a_week|2_total_like_in_a_week|2_total_addFriends_in_a_week|2_total_addPlaylist_in_a_week|3_total_song_event_in_a_week|3_total_home_in_a_week|3_total_like_in_a_week|3_total_addFriends_in_a_week|3_total_addPlaylist_in_a_week|session_length|avg_session_length|final_level|   percIncreaseSong|\n",
      "+------+---------+------+---------+------------+--------+-----------+-------+-----------+------------+--------------+-----------+----------+--------------+---------------+-----------------+----------------------------+----------------------+----------------------+----------------------------+-----------------------------+----------------------------+----------------------+----------------------+----------------------------+-----------------------------+----------------------------+----------------------+----------------------+----------------------------+-----------------------------+----------------------------+----------------------+----------------------+----------------------------+-----------------------------+--------------+------------------+-----------+-------------------+\n",
      "|100010| Darianna|     0|Carpenter|           0|       0|          0|      0|          0|           1|             0|        275|        11|            17|              4|                7|                          24|                     1|                     2|                           0|                            1|                          80|                     2|                     5|                           0|                            3|                          51|                     2|                     4|                           1|                            1|                           0|                     0|                     0|                           0|                            0|           111| 54.42857142857143|          0|0.15384615384615385|\n",
      "|100010| Darianna|     0|Carpenter|           0|       0|          0|      0|          0|           1|             0|        275|        11|            17|              4|                7|                          24|                     1|                     2|                           0|                            1|                          80|                     2|                     5|                           0|                            3|                          51|                     2|                     4|                           1|                            1|                           0|                     0|                     0|                           0|                            0|            39| 54.42857142857143|          0|0.15384615384615385|\n",
      "|100010| Darianna|     0|Carpenter|           0|       0|          0|      0|          0|           1|             0|        275|        11|            17|              4|                7|                          24|                     1|                     2|                           0|                            1|                          80|                     2|                     5|                           0|                            3|                          51|                     2|                     4|                           1|                            1|                           0|                     0|                     0|                           0|                            0|            59| 54.42857142857143|          0|0.15384615384615385|\n",
      "|100010| Darianna|     0|Carpenter|           0|       0|          0|      0|          0|           1|             0|        275|        11|            17|              4|                7|                          24|                     1|                     2|                           0|                            1|                          80|                     2|                     5|                           0|                            3|                          51|                     2|                     4|                           1|                            1|                           0|                     0|                     0|                           0|                            0|             8| 54.42857142857143|          0|0.15384615384615385|\n",
      "|100010| Darianna|     0|Carpenter|           0|       0|          0|      0|          0|           1|             0|        275|        11|            17|              4|                7|                          24|                     1|                     2|                           0|                            1|                          80|                     2|                     5|                           0|                            3|                          51|                     2|                     4|                           1|                            1|                           0|                     0|                     0|                           0|                            0|            73| 54.42857142857143|          0|0.15384615384615385|\n",
      "+------+---------+------+---------+------------+--------+-----------+-------+-----------+------------+--------------+-----------+----------+--------------+---------------+-----------------+----------------------------+----------------------+----------------------+----------------------------+-----------------------------+----------------------------+----------------------+----------------------+----------------------------+-----------------------------+----------------------------+----------------------+----------------------+----------------------------+-----------------------------+----------------------------+----------------------+----------------------+----------------------------+-----------------------------+--------------+------------------+-----------+-------------------+\n",
      "only showing top 5 rows\n",
      "\n"
     ]
    }
   ],
   "source": [
    "df_features = df_features.withColumn(\"gender\",gender_dummy(df_features.gender))\\\n",
    ".withColumn(\"final_level\",membershipStatus_dummy(df_features.final_level))\n",
    "df_features.show(5)"
   ]
  },
  {
   "cell_type": "code",
   "execution_count": 58,
   "metadata": {},
   "outputs": [
    {
     "name": "stdout",
     "output_type": "stream",
     "text": [
      "root\n",
      " |-- userId: string (nullable = true)\n",
      " |-- firstName: string (nullable = true)\n",
      " |-- gender: integer (nullable = true)\n",
      " |-- lastName: string (nullable = true)\n",
      " |-- is_cancelled: integer (nullable = true)\n",
      " |-- is_churn: integer (nullable = true)\n",
      " |-- is_NextSong: integer (nullable = true)\n",
      " |-- is_Home: integer (nullable = true)\n",
      " |-- is_ThumbsUp: integer (nullable = true)\n",
      " |-- is_AddFriend: integer (nullable = true)\n",
      " |-- is_AddPlaylist: integer (nullable = true)\n",
      " |-- songs_count: long (nullable = true)\n",
      " |-- home_count: long (nullable = true)\n",
      " |-- thumbsUp_count: long (nullable = true)\n",
      " |-- addFriend_count: long (nullable = true)\n",
      " |-- addPlaylist_count: long (nullable = true)\n",
      " |-- 0_total_song_event_in_a_week: long (nullable = true)\n",
      " |-- 0_total_home_in_a_week: long (nullable = true)\n",
      " |-- 0_total_like_in_a_week: long (nullable = true)\n",
      " |-- 0_total_addFriends_in_a_week: long (nullable = true)\n",
      " |-- 0_total_addPlaylist_in_a_week: long (nullable = true)\n",
      " |-- 1_total_song_event_in_a_week: long (nullable = true)\n",
      " |-- 1_total_home_in_a_week: long (nullable = true)\n",
      " |-- 1_total_like_in_a_week: long (nullable = true)\n",
      " |-- 1_total_addFriends_in_a_week: long (nullable = true)\n",
      " |-- 1_total_addPlaylist_in_a_week: long (nullable = true)\n",
      " |-- 2_total_song_event_in_a_week: long (nullable = true)\n",
      " |-- 2_total_home_in_a_week: long (nullable = true)\n",
      " |-- 2_total_like_in_a_week: long (nullable = true)\n",
      " |-- 2_total_addFriends_in_a_week: long (nullable = true)\n",
      " |-- 2_total_addPlaylist_in_a_week: long (nullable = true)\n",
      " |-- 3_total_song_event_in_a_week: long (nullable = true)\n",
      " |-- 3_total_home_in_a_week: long (nullable = true)\n",
      " |-- 3_total_like_in_a_week: long (nullable = true)\n",
      " |-- 3_total_addFriends_in_a_week: long (nullable = true)\n",
      " |-- 3_total_addPlaylist_in_a_week: long (nullable = true)\n",
      " |-- session_length: long (nullable = true)\n",
      " |-- avg_session_length: double (nullable = true)\n",
      " |-- final_level: integer (nullable = true)\n",
      " |-- percIncreaseSong: double (nullable = true)\n",
      "\n"
     ]
    }
   ],
   "source": [
    "df_features.printSchema()"
   ]
  },
  {
   "cell_type": "code",
   "execution_count": 59,
   "metadata": {},
   "outputs": [],
   "source": [
    "#Move the churn column to the end of the dataframe.\n",
    "df_with_churn = df_features.select(\"userId\", \"is_churn\")\n",
    "df_without_churn = df_features.drop(\"is_churn\")\n",
    "final_df_with_churn = df_without_churn.join(df_with_churn, \"userId\", \"left\")"
   ]
  },
  {
   "cell_type": "code",
   "execution_count": 60,
   "metadata": {},
   "outputs": [],
   "source": [
    "df_final_features = final_df_with_churn.drop(\"userId\",\"firstName\",\"lastName\")"
   ]
  },
  {
   "cell_type": "code",
   "execution_count": 61,
   "metadata": {},
   "outputs": [
    {
     "name": "stdout",
     "output_type": "stream",
     "text": [
      "+------+------------+-----------+-------+-----------+------------+--------------+-----------+----------+--------------+---------------+-----------------+----------------------------+----------------------+----------------------+----------------------------+-----------------------------+----------------------------+----------------------+----------------------+----------------------------+-----------------------------+----------------------------+----------------------+----------------------+----------------------------+-----------------------------+----------------------------+----------------------+----------------------+----------------------------+-----------------------------+--------------+------------------+-----------+----------------+--------+\n",
      "|gender|is_cancelled|is_NextSong|is_Home|is_ThumbsUp|is_AddFriend|is_AddPlaylist|songs_count|home_count|thumbsUp_count|addFriend_count|addPlaylist_count|0_total_song_event_in_a_week|0_total_home_in_a_week|0_total_like_in_a_week|0_total_addFriends_in_a_week|0_total_addPlaylist_in_a_week|1_total_song_event_in_a_week|1_total_home_in_a_week|1_total_like_in_a_week|1_total_addFriends_in_a_week|1_total_addPlaylist_in_a_week|2_total_song_event_in_a_week|2_total_home_in_a_week|2_total_like_in_a_week|2_total_addFriends_in_a_week|2_total_addPlaylist_in_a_week|3_total_song_event_in_a_week|3_total_home_in_a_week|3_total_like_in_a_week|3_total_addFriends_in_a_week|3_total_addPlaylist_in_a_week|session_length|avg_session_length|final_level|percIncreaseSong|is_churn|\n",
      "+------+------------+-----------+-------+-----------+------------+--------------+-----------+----------+--------------+---------------+-----------------+----------------------------+----------------------+----------------------+----------------------------+-----------------------------+----------------------------+----------------------+----------------------+----------------------------+-----------------------------+----------------------------+----------------------+----------------------+----------------------------+-----------------------------+----------------------------+----------------------+----------------------+----------------------------+-----------------------------+--------------+------------------+-----------+----------------+--------+\n",
      "|     0|           0|          0|      0|          0|           0|             0|          0|         0|             0|              0|                0|                           0|                     0|                     0|                           0|                            0|                           0|                     0|                     0|                           0|                            0|                           0|                     0|                     0|                           0|                            0|                           0|                     0|                     0|                           0|                            0|             0|                 0|          0|               0|       0|\n",
      "+------+------------+-----------+-------+-----------+------------+--------------+-----------+----------+--------------+---------------+-----------------+----------------------------+----------------------+----------------------+----------------------------+-----------------------------+----------------------------+----------------------+----------------------+----------------------------+-----------------------------+----------------------------+----------------------+----------------------+----------------------------+-----------------------------+----------------------------+----------------------+----------------------+----------------------------+-----------------------------+--------------+------------------+-----------+----------------+--------+\n",
      "\n"
     ]
    }
   ],
   "source": [
    "#Check for Nan values\n",
    "df_final_features.select([count(when(isnan(c), c)).alias(c) for c in df_final_features.columns]).show()"
   ]
  },
  {
   "cell_type": "code",
   "execution_count": 62,
   "metadata": {},
   "outputs": [
    {
     "name": "stdout",
     "output_type": "stream",
     "text": [
      "+------+------------+-----------+-------+-----------+------------+--------------+-----------+----------+--------------+---------------+-----------------+----------------------------+----------------------+----------------------+----------------------------+-----------------------------+----------------------------+----------------------+----------------------+----------------------------+-----------------------------+----------------------------+----------------------+----------------------+----------------------------+-----------------------------+----------------------------+----------------------+----------------------+----------------------------+-----------------------------+--------------+------------------+-----------+----------------+--------+\n",
      "|gender|is_cancelled|is_NextSong|is_Home|is_ThumbsUp|is_AddFriend|is_AddPlaylist|songs_count|home_count|thumbsUp_count|addFriend_count|addPlaylist_count|0_total_song_event_in_a_week|0_total_home_in_a_week|0_total_like_in_a_week|0_total_addFriends_in_a_week|0_total_addPlaylist_in_a_week|1_total_song_event_in_a_week|1_total_home_in_a_week|1_total_like_in_a_week|1_total_addFriends_in_a_week|1_total_addPlaylist_in_a_week|2_total_song_event_in_a_week|2_total_home_in_a_week|2_total_like_in_a_week|2_total_addFriends_in_a_week|2_total_addPlaylist_in_a_week|3_total_song_event_in_a_week|3_total_home_in_a_week|3_total_like_in_a_week|3_total_addFriends_in_a_week|3_total_addPlaylist_in_a_week|session_length|avg_session_length|final_level|percIncreaseSong|is_churn|\n",
      "+------+------------+-----------+-------+-----------+------------+--------------+-----------+----------+--------------+---------------+-----------------+----------------------------+----------------------+----------------------+----------------------------+-----------------------------+----------------------------+----------------------+----------------------+----------------------------+-----------------------------+----------------------------+----------------------+----------------------+----------------------------+-----------------------------+----------------------------+----------------------+----------------------+----------------------------+-----------------------------+--------------+------------------+-----------+----------------+--------+\n",
      "|     0|           0|          0|      0|          0|           0|             0|          0|         0|             0|              0|                0|                           0|                     0|                     0|                           0|                            0|                           0|                     0|                     0|                           0|                            0|                           0|                     0|                     0|                           0|                            0|                           0|                     0|                     0|                           0|                            0|             0|                 0|          0|               0|       0|\n",
      "+------+------------+-----------+-------+-----------+------------+--------------+-----------+----------+--------------+---------------+-----------------+----------------------------+----------------------+----------------------+----------------------------+-----------------------------+----------------------------+----------------------+----------------------+----------------------------+-----------------------------+----------------------------+----------------------+----------------------+----------------------------+-----------------------------+----------------------------+----------------------+----------------------+----------------------------+-----------------------------+--------------+------------------+-----------+----------------+--------+\n",
      "\n"
     ]
    }
   ],
   "source": [
    "#Check for Null values\n",
    "df_final_features.select([count(when(col(c).isNull(), c)).alias(c) for c in df_final_features.columns]).show()"
   ]
  },
  {
   "cell_type": "code",
   "execution_count": 63,
   "metadata": {},
   "outputs": [
    {
     "name": "stdout",
     "output_type": "stream",
     "text": [
      "+------+------------+-----------+-------+-----------+------------+--------------+-----------+----------+--------------+---------------+-----------------+----------------------------+----------------------+----------------------+----------------------------+-----------------------------+----------------------------+----------------------+----------------------+----------------------------+-----------------------------+----------------------------+----------------------+----------------------+----------------------------+-----------------------------+----------------------------+----------------------+----------------------+----------------------------+-----------------------------+--------------+------------------+-----------+-------------------+--------+\n",
      "|gender|is_cancelled|is_NextSong|is_Home|is_ThumbsUp|is_AddFriend|is_AddPlaylist|songs_count|home_count|thumbsUp_count|addFriend_count|addPlaylist_count|0_total_song_event_in_a_week|0_total_home_in_a_week|0_total_like_in_a_week|0_total_addFriends_in_a_week|0_total_addPlaylist_in_a_week|1_total_song_event_in_a_week|1_total_home_in_a_week|1_total_like_in_a_week|1_total_addFriends_in_a_week|1_total_addPlaylist_in_a_week|2_total_song_event_in_a_week|2_total_home_in_a_week|2_total_like_in_a_week|2_total_addFriends_in_a_week|2_total_addPlaylist_in_a_week|3_total_song_event_in_a_week|3_total_home_in_a_week|3_total_like_in_a_week|3_total_addFriends_in_a_week|3_total_addPlaylist_in_a_week|session_length|avg_session_length|final_level|   percIncreaseSong|is_churn|\n",
      "+------+------------+-----------+-------+-----------+------------+--------------+-----------+----------+--------------+---------------+-----------------+----------------------------+----------------------+----------------------+----------------------------+-----------------------------+----------------------------+----------------------+----------------------+----------------------------+-----------------------------+----------------------------+----------------------+----------------------+----------------------------+-----------------------------+----------------------------+----------------------+----------------------+----------------------------+-----------------------------+--------------+------------------+-----------+-------------------+--------+\n",
      "|     0|           0|          0|      0|          0|           1|             0|        275|        11|            17|              4|                7|                          24|                     1|                     2|                           0|                            1|                          80|                     2|                     5|                           0|                            3|                          51|                     2|                     4|                           1|                            1|                           0|                     0|                     0|                           0|                            0|           111| 54.42857142857143|          0|0.15384615384615385|       0|\n",
      "|     0|           0|          0|      0|          0|           1|             0|        275|        11|            17|              4|                7|                          24|                     1|                     2|                           0|                            1|                          80|                     2|                     5|                           0|                            3|                          51|                     2|                     4|                           1|                            1|                           0|                     0|                     0|                           0|                            0|           111| 54.42857142857143|          0|0.15384615384615385|       0|\n",
      "+------+------------+-----------+-------+-----------+------------+--------------+-----------+----------+--------------+---------------+-----------------+----------------------------+----------------------+----------------------+----------------------------+-----------------------------+----------------------------+----------------------+----------------------+----------------------------+-----------------------------+----------------------------+----------------------+----------------------+----------------------------+-----------------------------+----------------------------+----------------------+----------------------+----------------------------+-----------------------------+--------------+------------------+-----------+-------------------+--------+\n",
      "only showing top 2 rows\n",
      "\n"
     ]
    }
   ],
   "source": [
    "df_final_features.show(2)"
   ]
  },
  {
   "cell_type": "code",
   "execution_count": 64,
   "metadata": {},
   "outputs": [
    {
     "name": "stdout",
     "output_type": "stream",
     "text": [
      "root\n",
      " |-- gender: integer (nullable = true)\n",
      " |-- is_cancelled: integer (nullable = true)\n",
      " |-- is_NextSong: integer (nullable = true)\n",
      " |-- is_Home: integer (nullable = true)\n",
      " |-- is_ThumbsUp: integer (nullable = true)\n",
      " |-- is_AddFriend: integer (nullable = true)\n",
      " |-- is_AddPlaylist: integer (nullable = true)\n",
      " |-- songs_count: long (nullable = true)\n",
      " |-- home_count: long (nullable = true)\n",
      " |-- thumbsUp_count: long (nullable = true)\n",
      " |-- addFriend_count: long (nullable = true)\n",
      " |-- addPlaylist_count: long (nullable = true)\n",
      " |-- 0_total_song_event_in_a_week: long (nullable = true)\n",
      " |-- 0_total_home_in_a_week: long (nullable = true)\n",
      " |-- 0_total_like_in_a_week: long (nullable = true)\n",
      " |-- 0_total_addFriends_in_a_week: long (nullable = true)\n",
      " |-- 0_total_addPlaylist_in_a_week: long (nullable = true)\n",
      " |-- 1_total_song_event_in_a_week: long (nullable = true)\n",
      " |-- 1_total_home_in_a_week: long (nullable = true)\n",
      " |-- 1_total_like_in_a_week: long (nullable = true)\n",
      " |-- 1_total_addFriends_in_a_week: long (nullable = true)\n",
      " |-- 1_total_addPlaylist_in_a_week: long (nullable = true)\n",
      " |-- 2_total_song_event_in_a_week: long (nullable = true)\n",
      " |-- 2_total_home_in_a_week: long (nullable = true)\n",
      " |-- 2_total_like_in_a_week: long (nullable = true)\n",
      " |-- 2_total_addFriends_in_a_week: long (nullable = true)\n",
      " |-- 2_total_addPlaylist_in_a_week: long (nullable = true)\n",
      " |-- 3_total_song_event_in_a_week: long (nullable = true)\n",
      " |-- 3_total_home_in_a_week: long (nullable = true)\n",
      " |-- 3_total_like_in_a_week: long (nullable = true)\n",
      " |-- 3_total_addFriends_in_a_week: long (nullable = true)\n",
      " |-- 3_total_addPlaylist_in_a_week: long (nullable = true)\n",
      " |-- session_length: long (nullable = true)\n",
      " |-- avg_session_length: double (nullable = true)\n",
      " |-- final_level: integer (nullable = true)\n",
      " |-- percIncreaseSong: double (nullable = true)\n",
      " |-- is_churn: integer (nullable = true)\n",
      "\n"
     ]
    }
   ],
   "source": [
    "df_final_features.printSchema()"
   ]
  },
  {
   "cell_type": "markdown",
   "metadata": {},
   "source": [
    "# Modeling\n",
    "Split the full dataset into train, test, and validation sets. Test out several of the machine learning methods you learned. Evaluate the accuracy of the various models, tuning parameters as necessary. Determine your winning model based on test accuracy and report results on the validation set. Since the churned users are a fairly small subset, I suggest using F1 score as the metric to optimize."
   ]
  },
  {
   "cell_type": "code",
   "execution_count": 65,
   "metadata": {},
   "outputs": [],
   "source": [
    "features_list = df_final_features.columns[:]\n",
    "for feature in features_list:\n",
    "    df_final_features = df_final_features.withColumn(feature, df_final_features[feature].cast(\"float\"))"
   ]
  },
  {
   "cell_type": "code",
   "execution_count": 66,
   "metadata": {},
   "outputs": [],
   "source": [
    "assembler = VectorAssembler(inputCols=df_final_features.columns[:-1], outputCol=\"Features\")\n",
    "data = assembler.transform(df_final_features)"
   ]
  },
  {
   "cell_type": "code",
   "execution_count": 67,
   "metadata": {},
   "outputs": [
    {
     "name": "stdout",
     "output_type": "stream",
     "text": [
      "+------+------------+-----------+-------+-----------+------------+--------------+-----------+----------+--------------+---------------+-----------------+----------------------------+----------------------+----------------------+----------------------------+-----------------------------+----------------------------+----------------------+----------------------+----------------------------+-----------------------------+----------------------------+----------------------+----------------------+----------------------------+-----------------------------+----------------------------+----------------------+----------------------+----------------------------+-----------------------------+--------------+------------------+-----------+----------------+--------+--------------------+\n",
      "|gender|is_cancelled|is_NextSong|is_Home|is_ThumbsUp|is_AddFriend|is_AddPlaylist|songs_count|home_count|thumbsUp_count|addFriend_count|addPlaylist_count|0_total_song_event_in_a_week|0_total_home_in_a_week|0_total_like_in_a_week|0_total_addFriends_in_a_week|0_total_addPlaylist_in_a_week|1_total_song_event_in_a_week|1_total_home_in_a_week|1_total_like_in_a_week|1_total_addFriends_in_a_week|1_total_addPlaylist_in_a_week|2_total_song_event_in_a_week|2_total_home_in_a_week|2_total_like_in_a_week|2_total_addFriends_in_a_week|2_total_addPlaylist_in_a_week|3_total_song_event_in_a_week|3_total_home_in_a_week|3_total_like_in_a_week|3_total_addFriends_in_a_week|3_total_addPlaylist_in_a_week|session_length|avg_session_length|final_level|percIncreaseSong|is_churn|            Features|\n",
      "+------+------------+-----------+-------+-----------+------------+--------------+-----------+----------+--------------+---------------+-----------------+----------------------------+----------------------+----------------------+----------------------------+-----------------------------+----------------------------+----------------------+----------------------+----------------------------+-----------------------------+----------------------------+----------------------+----------------------+----------------------------+-----------------------------+----------------------------+----------------------+----------------------+----------------------------+-----------------------------+--------------+------------------+-----------+----------------+--------+--------------------+\n",
      "|   0.0|         0.0|        0.0|    0.0|        0.0|         1.0|           0.0|      275.0|      11.0|          17.0|            4.0|              7.0|                        24.0|                   1.0|                   2.0|                         0.0|                          1.0|                        80.0|                   2.0|                   5.0|                         0.0|                          3.0|                        51.0|                   2.0|                   4.0|                         1.0|                          1.0|                         0.0|                   0.0|                   0.0|                         0.0|                          0.0|         111.0|          54.42857|        0.0|      0.15384616|     0.0|(36,[5,7,8,9,10,1...|\n",
      "|   0.0|         0.0|        0.0|    0.0|        0.0|         1.0|           0.0|      275.0|      11.0|          17.0|            4.0|              7.0|                        24.0|                   1.0|                   2.0|                         0.0|                          1.0|                        80.0|                   2.0|                   5.0|                         0.0|                          3.0|                        51.0|                   2.0|                   4.0|                         1.0|                          1.0|                         0.0|                   0.0|                   0.0|                         0.0|                          0.0|         111.0|          54.42857|        0.0|      0.15384616|     0.0|(36,[5,7,8,9,10,1...|\n",
      "+------+------------+-----------+-------+-----------+------------+--------------+-----------+----------+--------------+---------------+-----------------+----------------------------+----------------------+----------------------+----------------------------+-----------------------------+----------------------------+----------------------+----------------------+----------------------------+-----------------------------+----------------------------+----------------------+----------------------+----------------------------+-----------------------------+----------------------------+----------------------+----------------------+----------------------------+-----------------------------+--------------+------------------+-----------+----------------+--------+--------------------+\n",
      "only showing top 2 rows\n",
      "\n"
     ]
    }
   ],
   "source": [
    "data.show(2)"
   ]
  },
  {
   "cell_type": "code",
   "execution_count": 71,
   "metadata": {
    "scrolled": true
   },
   "outputs": [],
   "source": [
    "scaler = StandardScaler(inputCol=\"Features\", outputCol=\"ScaledFeatures\", withStd=True)\n",
    "scaler_trans = scaler.fit(data)"
   ]
  },
  {
   "cell_type": "code",
   "execution_count": 72,
   "metadata": {},
   "outputs": [],
   "source": [
    "data = scaler_trans.transform(data)\n",
    "\n",
    "data = data.select(data.is_churn.alias(\"label\"), data.ScaledFeatures.alias(\"features\"))"
   ]
  },
  {
   "cell_type": "code",
   "execution_count": 73,
   "metadata": {},
   "outputs": [],
   "source": [
    "train, test = data.randomSplit([0.8,0.2], seed = 24)"
   ]
  },
  {
   "cell_type": "code",
   "execution_count": 74,
   "metadata": {},
   "outputs": [],
   "source": [
    "from sklearn.metrics import f1_score, accuracy_score"
   ]
  },
  {
   "cell_type": "code",
   "execution_count": 75,
   "metadata": {},
   "outputs": [],
   "source": [
    "def model_scores(model, model_name):\n",
    "    '''A function to provide the F1 score of any trained model.\n",
    "       input: model - The trained model with which to score\n",
    "              model_name (str) - A string prefix that will appear in the output\n",
    "       output: f1Score - The F1 Score of the model, on the validation data set.\n",
    "    '''\n",
    "    predictions = model.transform(test)\n",
    "    predictions_pd = predictions.toPandas()\n",
    "    model_f1_score = f1_score(predictions_pd.label,predictions_pd.prediction)\n",
    "    model_accuracy_score = accuracy_score(predictions_pd.label,predictions_pd.prediction)\n",
    "    print(model_name,\" F1 score: \",model_f1_score)\n",
    "    print(model_name,\" Accuracy: \",model_accuracy_score)"
   ]
  },
  {
   "cell_type": "code",
   "execution_count": 76,
   "metadata": {},
   "outputs": [],
   "source": [
    "def feature_importance_tree(model):\n",
    "    '''This function will output the features most used in a tree based model. \n",
    "       This gives a good idea of the feature importance of the model\n",
    "       \n",
    "    '''\n",
    "    feature_imp_list = list(model.bestModel.featureImportances)\n",
    "    features_list = list(df_final_features.drop(\"is_churn\").columns[:])\n",
    "\n",
    "    importance_dict = {\"feature\":features_list,\"importance_score\":feature_imp_list}\n",
    "    feature_importance = pd.DataFrame(importance_dict).sort_values(by = \"importance_score\", ascending = False)\n",
    "\n",
    "    return (feature_importance.head(5))"
   ]
  },
  {
   "cell_type": "code",
   "execution_count": 87,
   "metadata": {},
   "outputs": [
    {
     "name": "stdout",
     "output_type": "stream",
     "text": [
      "Logistic regression training complete\n"
     ]
    }
   ],
   "source": [
    "params = ParamGridBuilder().addGrid(LogisticRegression().regParam,[0.1,0.2])\\\n",
    "                              .addGrid(LogisticRegression().elasticNetParam, [0.1,0.2])\\\n",
    "                              .addGrid(LogisticRegression().maxIter,[10])\\\n",
    "                              .build()\n",
    "\n",
    "crossval = CrossValidator(estimator=LogisticRegression(),\n",
    "                          estimatorParamMaps=params,\n",
    "                          evaluator=BinaryClassificationEvaluator(),\n",
    "                          numFolds=3,\n",
    "                          seed = 100) \n",
    "\n",
    "logistic_regression_model = crossval.fit(train)\n",
    "print(\"Logistic regression training complete\")"
   ]
  },
  {
   "cell_type": "code",
   "execution_count": 88,
   "metadata": {},
   "outputs": [],
   "source": [
    "logistic_regression_model.write().overwrite().save(\"logistic_regression_model.model\")"
   ]
  },
  {
   "cell_type": "code",
   "execution_count": 89,
   "metadata": {},
   "outputs": [],
   "source": [
    "logistic_regression_model = CrossValidatorModel.load('logistic_regression_model.model')"
   ]
  },
  {
   "cell_type": "code",
   "execution_count": 90,
   "metadata": {},
   "outputs": [
    {
     "name": "stdout",
     "output_type": "stream",
     "text": [
      "Logistic_regression  F1 score:  0.806754388193\n",
      "Logistic_regression  Accuracy:  0.950343175491\n"
     ]
    }
   ],
   "source": [
    "# For Logistic Regression Model\n",
    "model_scores(logistic_regression_model,\"Logistic_regression\")"
   ]
  },
  {
   "cell_type": "code",
   "execution_count": 83,
   "metadata": {},
   "outputs": [],
   "source": [
    "import pandas as pd"
   ]
  },
  {
   "cell_type": "code",
   "execution_count": 92,
   "metadata": {},
   "outputs": [
    {
     "data": {
      "text/html": [
       "<div>\n",
       "<style scoped>\n",
       "    .dataframe tbody tr th:only-of-type {\n",
       "        vertical-align: middle;\n",
       "    }\n",
       "\n",
       "    .dataframe tbody tr th {\n",
       "        vertical-align: top;\n",
       "    }\n",
       "\n",
       "    .dataframe thead th {\n",
       "        text-align: right;\n",
       "    }\n",
       "</style>\n",
       "<table border=\"1\" class=\"dataframe\">\n",
       "  <thead>\n",
       "    <tr style=\"text-align: right;\">\n",
       "      <th></th>\n",
       "      <th>Feature</th>\n",
       "      <th>Importance_Score</th>\n",
       "      <th>Importance_mag</th>\n",
       "    </tr>\n",
       "  </thead>\n",
       "  <tbody>\n",
       "    <tr>\n",
       "      <th>9</th>\n",
       "      <td>thumbsUp_count</td>\n",
       "      <td>-30.412929</td>\n",
       "      <td>30.412929</td>\n",
       "    </tr>\n",
       "    <tr>\n",
       "      <th>27</th>\n",
       "      <td>3_total_song_event_in_a_week</td>\n",
       "      <td>13.559167</td>\n",
       "      <td>13.559167</td>\n",
       "    </tr>\n",
       "    <tr>\n",
       "      <th>29</th>\n",
       "      <td>3_total_like_in_a_week</td>\n",
       "      <td>-10.664686</td>\n",
       "      <td>10.664686</td>\n",
       "    </tr>\n",
       "    <tr>\n",
       "      <th>11</th>\n",
       "      <td>addPlaylist_count</td>\n",
       "      <td>10.589301</td>\n",
       "      <td>10.589301</td>\n",
       "    </tr>\n",
       "    <tr>\n",
       "      <th>14</th>\n",
       "      <td>0_total_like_in_a_week</td>\n",
       "      <td>9.478500</td>\n",
       "      <td>9.478500</td>\n",
       "    </tr>\n",
       "    <tr>\n",
       "      <th>19</th>\n",
       "      <td>1_total_like_in_a_week</td>\n",
       "      <td>6.359890</td>\n",
       "      <td>6.359890</td>\n",
       "    </tr>\n",
       "    <tr>\n",
       "      <th>10</th>\n",
       "      <td>addFriend_count</td>\n",
       "      <td>5.824378</td>\n",
       "      <td>5.824378</td>\n",
       "    </tr>\n",
       "    <tr>\n",
       "      <th>23</th>\n",
       "      <td>2_total_home_in_a_week</td>\n",
       "      <td>-5.681952</td>\n",
       "      <td>5.681952</td>\n",
       "    </tr>\n",
       "    <tr>\n",
       "      <th>8</th>\n",
       "      <td>home_count</td>\n",
       "      <td>-5.578425</td>\n",
       "      <td>5.578425</td>\n",
       "    </tr>\n",
       "    <tr>\n",
       "      <th>1</th>\n",
       "      <td>is_cancelled</td>\n",
       "      <td>5.209064</td>\n",
       "      <td>5.209064</td>\n",
       "    </tr>\n",
       "  </tbody>\n",
       "</table>\n",
       "</div>"
      ],
      "text/plain": [
       "                         Feature  Importance_Score  Importance_mag\n",
       "9                 thumbsUp_count        -30.412929       30.412929\n",
       "27  3_total_song_event_in_a_week         13.559167       13.559167\n",
       "29        3_total_like_in_a_week        -10.664686       10.664686\n",
       "11             addPlaylist_count         10.589301       10.589301\n",
       "14        0_total_like_in_a_week          9.478500        9.478500\n",
       "19        1_total_like_in_a_week          6.359890        6.359890\n",
       "10               addFriend_count          5.824378        5.824378\n",
       "23        2_total_home_in_a_week         -5.681952        5.681952\n",
       "8                     home_count         -5.578425        5.578425\n",
       "1                   is_cancelled          5.209064        5.209064"
      ]
     },
     "execution_count": 92,
     "metadata": {},
     "output_type": "execute_result"
    }
   ],
   "source": [
    "coefficients = list(logistic_regression_model.bestModel.coefficients)\n",
    "mag_coefficients = list(logistic_regression_model.bestModel.coefficients)\n",
    "for i in range(len(coefficients)):\n",
    "    mag_coefficients[i] = abs(mag_coefficients[i])\n",
    "\n",
    "features = list(df_final_features.drop(\"is_churn\").columns[:])\n",
    "\n",
    "LR_Dict = {\"Feature\":features,\"Importance_Score\":coefficients, \"Importance_mag\":mag_coefficients}\n",
    "LR_Feature_Importance = pd.DataFrame(LR_Dict).sort_values(by = \"Importance_mag\", ascending = False)\n",
    "LR_Feature_Importance.head(10)"
   ]
  },
  {
   "cell_type": "code",
   "execution_count": 94,
   "metadata": {},
   "outputs": [
    {
     "data": {
      "text/plain": [
       "\"cacheNodeIds: If false, the algorithm will pass trees to executors to match instances with nodes. If true, the algorithm will cache node IDs for each instance. Caching can speed up training of deeper trees. Users can set how often should the cache be checkpointed or disable it by setting checkpointInterval. (default: False)\\ncheckpointInterval: set checkpoint interval (>= 1) or disable checkpoint (-1). E.g. 10 means that the cache will get checkpointed every 10 iterations. Note: this setting will be ignored if the checkpoint directory is not set in the SparkContext. (default: 10)\\nfeatureSubsetStrategy: The number of features to consider for splits at each tree node. Supported options: 'auto' (choose automatically for task: If numTrees == 1, set to 'all'. If numTrees > 1 (forest), set to 'sqrt' for classification and to 'onethird' for regression), 'all' (use all features), 'onethird' (use 1/3 of the features), 'sqrt' (use sqrt(number of features)), 'log2' (use log2(number of features)), 'n' (when n is in the range (0, 1.0], use n * number of features. When n is in the range (1, number of features), use n features). default = 'auto' (default: auto)\\nfeaturesCol: features column name. (default: features)\\nimpurity: Criterion used for information gain calculation (case-insensitive). Supported options: entropy, gini (default: gini)\\nlabelCol: label column name. (default: label)\\nmaxBins: Max number of bins for discretizing continuous features.  Must be >=2 and >= number of categories for any categorical feature. (default: 32)\\nmaxDepth: Maximum depth of the tree. (>= 0) E.g., depth 0 means 1 leaf node; depth 1 means 1 internal node + 2 leaf nodes. (default: 5)\\nmaxMemoryInMB: Maximum memory in MB allocated to histogram aggregation. If too small, then 1 node will be split per iteration, and its aggregates may exceed this size. (default: 256)\\nminInfoGain: Minimum information gain for a split to be considered at a tree node. (default: 0.0)\\nminInstancesPerNode: Minimum number of instances each child must have after split. If a split causes the left or right child to have fewer than minInstancesPerNode, the split will be discarded as invalid. Should be >= 1. (default: 1)\\nnumTrees: Number of trees to train (>= 1). (default: 20)\\npredictionCol: prediction column name. (default: prediction)\\nprobabilityCol: Column name for predicted class conditional probabilities. Note: Not all models output well-calibrated probability estimates! These probabilities should be treated as confidences, not precise probabilities. (default: probability)\\nrawPredictionCol: raw prediction (a.k.a. confidence) column name. (default: rawPrediction)\\nseed: random seed. (default: 734560629881789588)\\nsubsamplingRate: Fraction of the training data used for learning each decision tree, in range (0, 1]. (default: 1.0)\""
      ]
     },
     "execution_count": 94,
     "metadata": {},
     "output_type": "execute_result"
    }
   ],
   "source": [
    "RandomForestClassifier().explainParams()"
   ]
  },
  {
   "cell_type": "code",
   "execution_count": 77,
   "metadata": {},
   "outputs": [
    {
     "name": "stdout",
     "output_type": "stream",
     "text": [
      "Random forest training completed\n"
     ]
    }
   ],
   "source": [
    "random_forest = RandomForestClassifier(seed = 24)\n",
    "\n",
    "params = ParamGridBuilder().addGrid(random_forest.numTrees,[20,30])\\\n",
    "                              .addGrid(random_forest.impurity,[\"gini\",\"entropy\"])\\\n",
    "                              .addGrid(random_forest.minInstancesPerNode,[1,3])\\\n",
    "                              .build()\n",
    "\n",
    "crossval = CrossValidator(estimator=random_forest,\n",
    "                          estimatorParamMaps=params,\n",
    "                          evaluator=BinaryClassificationEvaluator(),\n",
    "                          numFolds=3,\n",
    "                          seed = 97) \n",
    "\n",
    "rf_model = crossval.fit(train)\n",
    "\n",
    "print(\"Random forest training completed\")"
   ]
  },
  {
   "cell_type": "code",
   "execution_count": 78,
   "metadata": {},
   "outputs": [],
   "source": [
    "rf_model.write().overwrite().save('Random_forest_model.model')\n"
   ]
  },
  {
   "cell_type": "code",
   "execution_count": 79,
   "metadata": {},
   "outputs": [],
   "source": [
    "rf_model = CrossValidatorModel.load('Random_forest_model.model')\n"
   ]
  },
  {
   "cell_type": "code",
   "execution_count": 81,
   "metadata": {},
   "outputs": [
    {
     "name": "stdout",
     "output_type": "stream",
     "text": [
      "RF  F1 score:  0.826420504937\n",
      "RF  Accuracy:  0.961674657232\n"
     ]
    }
   ],
   "source": [
    "# For random Forest Model\n",
    "model_scores(rf_model,\"RF\")\n"
   ]
  },
  {
   "cell_type": "code",
   "execution_count": 84,
   "metadata": {},
   "outputs": [
    {
     "data": {
      "text/html": [
       "<div>\n",
       "<style scoped>\n",
       "    .dataframe tbody tr th:only-of-type {\n",
       "        vertical-align: middle;\n",
       "    }\n",
       "\n",
       "    .dataframe tbody tr th {\n",
       "        vertical-align: top;\n",
       "    }\n",
       "\n",
       "    .dataframe thead th {\n",
       "        text-align: right;\n",
       "    }\n",
       "</style>\n",
       "<table border=\"1\" class=\"dataframe\">\n",
       "  <thead>\n",
       "    <tr style=\"text-align: right;\">\n",
       "      <th></th>\n",
       "      <th>feature</th>\n",
       "      <th>importance_score</th>\n",
       "    </tr>\n",
       "  </thead>\n",
       "  <tbody>\n",
       "    <tr>\n",
       "      <th>8</th>\n",
       "      <td>home_count</td>\n",
       "      <td>0.137660</td>\n",
       "    </tr>\n",
       "    <tr>\n",
       "      <th>28</th>\n",
       "      <td>3_total_home_in_a_week</td>\n",
       "      <td>0.096485</td>\n",
       "    </tr>\n",
       "    <tr>\n",
       "      <th>1</th>\n",
       "      <td>is_cancelled</td>\n",
       "      <td>0.071020</td>\n",
       "    </tr>\n",
       "    <tr>\n",
       "      <th>27</th>\n",
       "      <td>3_total_song_event_in_a_week</td>\n",
       "      <td>0.066747</td>\n",
       "    </tr>\n",
       "    <tr>\n",
       "      <th>18</th>\n",
       "      <td>1_total_home_in_a_week</td>\n",
       "      <td>0.066198</td>\n",
       "    </tr>\n",
       "  </tbody>\n",
       "</table>\n",
       "</div>"
      ],
      "text/plain": [
       "                         feature  importance_score\n",
       "8                     home_count          0.137660\n",
       "28        3_total_home_in_a_week          0.096485\n",
       "1                   is_cancelled          0.071020\n",
       "27  3_total_song_event_in_a_week          0.066747\n",
       "18        1_total_home_in_a_week          0.066198"
      ]
     },
     "execution_count": 84,
     "metadata": {},
     "output_type": "execute_result"
    }
   ],
   "source": [
    "feature_importance_tree(rf_model)"
   ]
  },
  {
   "cell_type": "markdown",
   "metadata": {},
   "source": [
    "# Final Steps\n",
    "Clean up your code, adding comments and renaming variables to make the code easier to read and maintain. Refer to the Spark Project Overview page and Data Scientist Capstone Project Rubric to make sure you are including all components of the capstone project and meet all expectations. Remember, this includes thorough documentation in a README file in a Github repository, as well as a web app or blog post."
   ]
  },
  {
   "cell_type": "code",
   "execution_count": null,
   "metadata": {},
   "outputs": [],
   "source": [
    "Link to the Blogpost: https://gunanksood.medium.com/building-a-feature-engineering-pipeline-and-ml-model-using-pyspark-7036375cd081\n",
    "Github link to this project: https://github.com/gunanksood/Sparkify-ML_Pipeline"
   ]
  }
 ],
 "metadata": {
  "kernelspec": {
   "display_name": "Python 3",
   "language": "python",
   "name": "python3"
  },
  "language_info": {
   "codemirror_mode": {
    "name": "ipython",
    "version": 3
   },
   "file_extension": ".py",
   "mimetype": "text/x-python",
   "name": "python",
   "nbconvert_exporter": "python",
   "pygments_lexer": "ipython3",
   "version": "3.6.3"
  }
 },
 "nbformat": 4,
 "nbformat_minor": 2
}
